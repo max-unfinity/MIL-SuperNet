{
 "cells": [
  {
   "cell_type": "markdown",
   "metadata": {
    "toc": true
   },
   "source": [
    "<h1>Table of Contents<span class=\"tocSkip\"></span></h1>\n",
    "<div class=\"toc\"><ul class=\"toc-item\"><li><span><a href=\"#Load-Data\" data-toc-modified-id=\"Load-Data-1\">Load Data</a></span></li><li><span><a href=\"#SuperNet-Implemetation\" data-toc-modified-id=\"SuperNet-Implemetation-2\">SuperNet Implemetation</a></span><ul class=\"toc-item\"><li><span><a href=\"#ChoiceBlockWrapper\" data-toc-modified-id=\"ChoiceBlockWrapper-2.1\">ChoiceBlockWrapper</a></span></li><li><span><a href=\"#SuperNet\" data-toc-modified-id=\"SuperNet-2.2\">SuperNet</a></span></li><li><span><a href=\"#GammaScheduler\" data-toc-modified-id=\"GammaScheduler-2.3\">GammaScheduler</a></span></li><li><span><a href=\"#ThompsonSamplingController\" data-toc-modified-id=\"ThompsonSamplingController-2.4\">ThompsonSamplingController</a></span></li></ul></li><li><span><a href=\"#Experiment-1:-Train-SuperNet-as-single-net-(no-dropout)\" data-toc-modified-id=\"Experiment-1:-Train-SuperNet-as-single-net-(no-dropout)-3\">Experiment 1: Train SuperNet as single net (no dropout)</a></span></li><li><span><a href=\"#Experiment-2:-Train-with-constant-PathDropout-0.1\" data-toc-modified-id=\"Experiment-2:-Train-with-constant-PathDropout-0.1-4\">Experiment 2: Train with constant PathDropout 0.1</a></span></li><li><span><a href=\"#Experiment-3:-Train-with-PathDropout-0.01..0.3\" data-toc-modified-id=\"Experiment-3:-Train-with-PathDropout-0.01..0.3-5\">Experiment 3: Train with PathDropout 0.01..0.3</a></span></li><li><span><a href=\"#Reference:-Train-stand-alone-models-(Обучение-с-нуля)\" data-toc-modified-id=\"Reference:-Train-stand-alone-models-(Обучение-с-нуля)-6\">Reference: Train stand-alone models (Обучение с нуля)</a></span></li><li><span><a href=\"#Результаты-и-сравнение\" data-toc-modified-id=\"Результаты-и-сравнение-7\">Результаты и сравнение</a></span></li><li><span><a href=\"#Big-Baby-Net-(бонус)\" data-toc-modified-id=\"Big-Baby-Net-(бонус)-8\">Big Baby Net (бонус)</a></span></li><li><span><a href=\"#Further-experimetns\" data-toc-modified-id=\"Further-experimetns-9\">Further experimetns</a></span></li></ul></div>"
   ]
  },
  {
   "cell_type": "markdown",
   "metadata": {},
   "source": [
    "**Предисловие:** мне понравилась идея SuperNet, и я сделал больше, чем нужно. Поэтому, после просмотра раздела `SuperNet Implemetation`, можно сразу переходить к `Experiment 3` и далее. `Experiment 1` и `Experiment 2` являются по сути тем же самым, но с другими способами обучения и параметрами.\n",
    "\n",
    "Также в этом ноутбуке добавлены копии кода из src директории. Это удобно, если хочется, чтобы всё было в одном месте.\n",
    "\n",
    "И еще, прошу прощения за один warning, на который я поначалу забил, а теперь он немножко портит вид ("
   ]
  },
  {
   "cell_type": "code",
   "execution_count": 1,
   "metadata": {
    "ExecuteTime": {
     "end_time": "2020-08-13T18:50:40.044501Z",
     "start_time": "2020-08-13T18:50:38.805430Z"
    }
   },
   "outputs": [],
   "source": [
    "import torch\n",
    "from torch import nn\n",
    "import torch.nn.functional as F\n",
    "import torchvision\n",
    "import torchvision.transforms as T\n",
    "from torchvision.datasets import ImageFolder, MNIST\n",
    "from torch.utils.data import DataLoader, Dataset, Subset\n",
    "\n",
    "import numpy as np\n",
    "import pandas as pd\n",
    "from PIL import Image\n",
    "from tqdm.notebook import tqdm\n",
    "import matplotlib.pyplot as plt\n",
    "from IPython.display import clear_output\n",
    "from sklearn.metrics import accuracy_score\n",
    "import os\n",
    "import itertools"
   ]
  },
  {
   "cell_type": "code",
   "execution_count": 2,
   "metadata": {
    "ExecuteTime": {
     "end_time": "2020-08-13T18:50:40.049501Z",
     "start_time": "2020-08-13T18:50:40.046501Z"
    }
   },
   "outputs": [],
   "source": [
    "device = torch.device('cuda')"
   ]
  },
  {
   "cell_type": "markdown",
   "metadata": {},
   "source": [
    "## Load Data"
   ]
  },
  {
   "cell_type": "code",
   "execution_count": 3,
   "metadata": {
    "ExecuteTime": {
     "end_time": "2020-08-13T18:50:40.159507Z",
     "start_time": "2020-08-13T18:50:40.050501Z"
    }
   },
   "outputs": [],
   "source": [
    "aug = T.Compose([\n",
    "    T.RandomHorizontalFlip(),\n",
    "    T.ToTensor(),\n",
    "])\n",
    "\n",
    "mnist = MNIST(root='data', train=True, transform=aug, download=True)\n",
    "val_dataset = MNIST(root='data', train=False, transform=aug, download=True)\n",
    "\n",
    "N_subval = 10000\n",
    "np.random.seed(0)\n",
    "idx = np.random.permutation(len(mnist))\n",
    "train_subval_dataset = Subset(mnist, idx[:N_subval])\n",
    "train_dataset = Subset(mnist, idx[N_subval:])"
   ]
  },
  {
   "cell_type": "code",
   "execution_count": 4,
   "metadata": {
    "ExecuteTime": {
     "end_time": "2020-08-13T18:50:40.228511Z",
     "start_time": "2020-08-13T18:50:40.161507Z"
    }
   },
   "outputs": [],
   "source": [
    "train_loader = DataLoader(train_dataset, 50, shuffle=True, num_workers=4)\n",
    "train_subval_loader = DataLoader(train_subval_dataset, 50, shuffle=True, num_workers=4)\n",
    "val_loader = DataLoader(val_dataset, 200, shuffle=False, num_workers=4)"
   ]
  },
  {
   "cell_type": "markdown",
   "metadata": {},
   "source": [
    "## SuperNet Implemetation"
   ]
  },
  {
   "cell_type": "markdown",
   "metadata": {},
   "source": [
    "### ChoiceBlockWrapper"
   ]
  },
  {
   "cell_type": "code",
   "execution_count": 5,
   "metadata": {
    "ExecuteTime": {
     "end_time": "2020-08-13T18:50:41.399578Z",
     "start_time": "2020-08-13T18:50:41.387578Z"
    }
   },
   "outputs": [],
   "source": [
    "class ChoiceBlockWrapper(nn.Module):\n",
    "    '''Модуль, который создает ветвления в SuperNet. При обучении, пути forward выбираются случайно\n",
    "    (контролируется параметром dropout_gamma). Возможен проход сразу по нескольким параллельным путям в этом блоке,\n",
    "    результат параллельных путей суммируется и подается на выход. Это ускоряет сходимость.'''\n",
    "    \n",
    "    def __init__(self, choice_blocks, dropout_gamma=0.1, skip_chance=0.0, allow_parallel=True):\n",
    "        '''\n",
    "        choice_blocks: list(nn.Module). Каждый элемент списка - вариант ветвления.\n",
    "        dropout_gamma: float. Отвечает за частоту выбрасывания блоков при forward.\n",
    "            Для каждого блока существует вероятность быть откинутом на этом шаге,\n",
    "            dropout_prob = dropout_gamma**(1/len(choice_blocks)).\n",
    "        skip_chance: float. Константная вероятность для skip forward (input'ы просто подаются в output).\n",
    "        allow_parallel: bool. Допускать ли параллельные пути (не для всех блоков нужна параллельность, например, для активаций).\n",
    "        '''\n",
    "        \n",
    "        super().__init__()\n",
    "        self.choice_blocks = nn.ModuleList(choice_blocks)\n",
    "        self.skip_chance = skip_chance\n",
    "        self.allow_parallel = allow_parallel\n",
    "        self.set_dropout_gamma(dropout_gamma)\n",
    "        \n",
    "        # matmul will be alternative way to apply dropout\n",
    "        self.register_buffer('dropout_mask', torch.zeros(len(choice_blocks), dtype=torch.int64))\n",
    "        \n",
    "        choices_in_size, choices_out_size = self._calc_check_choice_sizes(choice_blocks)\n",
    "        if skip_chance > 0.:\n",
    "            assert choices_in_size == choices_out_size, 'if skip_chance == True, choices must have constant channel sizes (in_channels == out_channels)'\n",
    "\n",
    "    def forward(self, x, force_choice=None, return_choice=False):\n",
    "        '''force_choice: tuple. Определяет конкретный путь. При None выбирается случайный с np.random.\n",
    "        Случайность контролируется параметром dropout_gamma\n",
    "        return_choice: bool. Нужно ли возвращать выбранный путь.'''\n",
    "        \n",
    "        x_identity = x\n",
    "        \n",
    "        # apply Path-Dropout\n",
    "        N_choices = len(self.choice_blocks)\n",
    "        self.dropout_mask.zero_()\n",
    "        \n",
    "        if force_choice is None:\n",
    "            if self.skip_chance > np.random.rand():\n",
    "                if return_choice:\n",
    "                    return x_identity, tuple()\n",
    "                else:\n",
    "                    return x_identity\n",
    "            else:\n",
    "                if self.allow_parallel:\n",
    "                    self.dropout_mask[np.random.rand(N_choices) > self.dropout_prob] = 1\n",
    "                if not self.allow_parallel or torch.all(self.dropout_mask == 0):\n",
    "                    self.dropout_mask[np.random.randint(0, N_choices)] = 1\n",
    "        else:\n",
    "            force_choice = list(force_choice)\n",
    "            self.dropout_mask[force_choice] = 1\n",
    "            if self.skip_chance == 0. and torch.all(self.dropout_mask == 0):\n",
    "                import warnings\n",
    "                warnings.warn(f'can\\'t do empty force choice {force_choice} due to skip_chance == 0. Selecting 1 random choice...')\n",
    "                self.dropout_mask[np.random.randint(0, N_choices)] = 1\n",
    "                \n",
    "        # forward choices which has been selected by dropout_mask\n",
    "        x = [m(x) for m, mask in zip(self.choice_blocks, self.dropout_mask) if mask == 1]\n",
    "        x = torch.stack(x, dim=-1)  # (B, C, H, W, N_choices)\n",
    "        x = x.sum(-1)\n",
    "        \n",
    "        if return_choice:\n",
    "            return x, tuple(torch.where(self.dropout_mask)[0].tolist())\n",
    "        else:\n",
    "            return x\n",
    "    \n",
    "    def set_dropout_gamma(self, gamma):\n",
    "        self._dropout_gamma = gamma\n",
    "        self.dropout_prob = self._dropout_gamma**(1/len(self.choice_blocks))\n",
    "        \n",
    "    def get_choices(self, parallel_limit=None):\n",
    "        '''Возвращает все варианты ветвления в этом блоке - комбинация всех путей.\n",
    "        parallel_limit: int. Ограничение на число параллельных путей. При None, параллельные ветвления не возвратятся.\n",
    "        return: list(tuple). Список из индексов всех путей, например: [(0,), (1,), (0, 1)]'''\n",
    "        \n",
    "        choices = []\n",
    "        n_blocks = len(self.choice_blocks)\n",
    "        if parallel_limit is None:\n",
    "            parallel_limit = n_blocks\n",
    "        if not self.allow_parallel:\n",
    "            parallel_limit = 1\n",
    "        n_choices = min(n_blocks, parallel_limit)\n",
    "        for i in range(1-int(np.ceil(self.skip_chance)), n_choices+1):\n",
    "            choices += list(itertools.combinations(range(n_blocks), i))\n",
    "        return choices\n",
    "        \n",
    "    @staticmethod\n",
    "    def _calc_check_choice_sizes(choice_blocks):\n",
    "        try:\n",
    "            in_out_sizes = np.array([list(next(m.parameters()).shape[:2]) for m in choice_blocks])\n",
    "            assert np.all(in_out_sizes == in_out_sizes[0]), f'some choices don\\'t match the same inputs/outputs: {in_out_sizes.T[[1,0]]}'\n",
    "        except StopIteration:  # m.parameters() can throw this\n",
    "            return 0, 0\n",
    "        return in_out_sizes[0, 1], in_out_sizes[0, 0]"
   ]
  },
  {
   "cell_type": "markdown",
   "metadata": {},
   "source": [
    "### SuperNet"
   ]
  },
  {
   "cell_type": "code",
   "execution_count": null,
   "metadata": {
    "ExecuteTime": {
     "end_time": "2020-08-13T18:50:42.751656Z",
     "start_time": "2020-08-13T18:50:42.739655Z"
    }
   },
   "outputs": [],
   "source": [
    "class SuperNet(nn.Module):\n",
    "    '''Модуль, который строит СуперСеть. Контролирует ветвления, созданные в объектах класса ChoiceBlockWrapper.'''\n",
    "    \n",
    "    def __init__(self, modules):\n",
    "        super().__init__()\n",
    "        self.net = nn.Sequential(*modules)\n",
    "        self.total_choices = len(self.get_all_choices())\n",
    "    \n",
    "    def forward(self, x, force_choices=None):\n",
    "        choices = []\n",
    "        choice_counter = 0\n",
    "        for m in self.net.children():\n",
    "            if hasattr(m, 'choice_blocks'):\n",
    "                force_c = None if force_choices is None else force_choices[choice_counter]\n",
    "                x, c = m(x, force_c, return_choice=True)\n",
    "                choices.append(c)\n",
    "                choice_counter += 1\n",
    "            else:\n",
    "                x = m(x)\n",
    "        return x, tuple(choices)\n",
    "\n",
    "    def detach_subnet(self, choices=None, copy_weights=True, seed=None):\n",
    "        '''Создает конкретную subnet, определенную параметром choices.\n",
    "        Если choices==None, сэмплирует случайную.\n",
    "        Если copy_weights==False, то созданная subnet будет шарить общие веса с supernet'''\n",
    "        \n",
    "        from copy import deepcopy\n",
    "        if seed is not None: np.random.seed(seed)\n",
    "        subnet = []\n",
    "        choice_counter = 0\n",
    "        for m in self.net.children():\n",
    "            if hasattr(m, 'choice_blocks'):\n",
    "                i = choices[choice_counter][0] if (choices is not None) else np.random.randint(0, len(m.choice_blocks))\n",
    "                m = m.choice_blocks[i]\n",
    "                choice_counter += 1\n",
    "            if copy_weights:\n",
    "                m = deepcopy(m)\n",
    "            subnet.append(m)\n",
    "        return nn.Sequential(*subnet)\n",
    "    \n",
    "    def get_all_choices(self, parallel_limit=None):\n",
    "        all_choices = []\n",
    "        for m in self.net.children():\n",
    "            if hasattr(m, 'choice_blocks'):\n",
    "                all_choices.append(m.get_choices(parallel_limit))\n",
    "        return list(itertools.product(*all_choices))"
   ]
  },
  {
   "cell_type": "markdown",
   "metadata": {},
   "source": [
    "### GammaScheduler"
   ]
  },
  {
   "cell_type": "code",
   "execution_count": null,
   "metadata": {
    "ExecuteTime": {
     "end_time": "2020-08-13T18:50:42.751656Z",
     "start_time": "2020-08-13T18:50:42.739655Z"
    }
   },
   "outputs": [],
   "source": [
    "class GammaScheduler:\n",
    "    '''Линейно изменяет dropout_gamma на каждом шаге, с gamma_start до gamma_end'''\n",
    "    def __init__(self, supernet, total_steps, gamma_start=0.0, gamma_end=0.1):\n",
    "        self.supernet = supernet\n",
    "        self.total_steps = total_steps\n",
    "        self.gamma_start = gamma_start\n",
    "        self.gamma_end = gamma_end\n",
    "        self.i = -1\n",
    "        self.step()  # init dropout_gamma in every choice_block\n",
    "    \n",
    "    def step(self):\n",
    "        if self.i >= self.total_steps:\n",
    "            import warnings\n",
    "            warnings.warn('GammaScheduler step is out of total_steps. skipping')\n",
    "            return\n",
    "        self.i += 1\n",
    "        for m in self.supernet.net.children():\n",
    "            if hasattr(m, 'choice_blocks'):\n",
    "                gamma = self.gamma_start + (self.gamma_end-self.gamma_start)*self.i/self.total_steps\n",
    "                m.set_dropout_gamma(gamma)               "
   ]
  },
  {
   "cell_type": "markdown",
   "metadata": {},
   "source": [
    "### ThompsonSamplingController"
   ]
  },
  {
   "cell_type": "code",
   "execution_count": 7,
   "metadata": {
    "ExecuteTime": {
     "end_time": "2020-08-13T18:50:42.751656Z",
     "start_time": "2020-08-13T18:50:42.739655Z"
    }
   },
   "outputs": [],
   "source": [
    "class ThompsonSamplingController(nn.Module):\n",
    "    '''В данный момент просто собирает статистику обучения каждой подсети, чтобы выбрать лучшую.\n",
    "    Про сам метод ThompsonSampling, я написал ниже, в разделе \"Further experimetns\"'''\n",
    "    def __init__(self, supernet, parallel_limit=None, is_minimize_score=True):\n",
    "        # TODO: parallel_limit (while training all choices are possible, but for top sampling are not)\n",
    "        super().__init__()\n",
    "        self.supernet = supernet\n",
    "        self.parallel_limit = parallel_limit\n",
    "        self.is_minimize_score = is_minimize_score\n",
    "        all_choices = self.supernet.get_all_choices(self.parallel_limit)\n",
    "        self.subnets_scores = dict(zip(all_choices, [[] for x in range(len(all_choices))]))\n",
    "        \n",
    "    def update_score(self, choice, score):\n",
    "        t = self.subnets_scores.get(choice, None)\n",
    "        if t is not None:\n",
    "            t.append(score)\n",
    "            \n",
    "    def get_scores(self, last_n=None):\n",
    "        if last_n is None:\n",
    "            last_n = 0\n",
    "        return {k : np.mean(x[-last_n:]) for k, x in list(self.subnets_scores.items()) if len(x) > 0}\n",
    "        \n",
    "    def get_top_k_choices(self, k=1, last_n=None):\n",
    "        scores = self.get_scores()\n",
    "        if len(scores) == 0:\n",
    "            return []\n",
    "        idxs = np.argsort(list(scores.values()))\n",
    "        idxs = idxs[:k] if self.is_minimize_score else idxs[::-1][:k]\n",
    "        l = np.array(list(scores.items()))\n",
    "        return l[idxs].tolist()"
   ]
  },
  {
   "cell_type": "code",
   "execution_count": 8,
   "metadata": {
    "ExecuteTime": {
     "end_time": "2020-08-13T18:50:43.687709Z",
     "start_time": "2020-08-13T18:50:43.683709Z"
    },
    "code_folding": []
   },
   "outputs": [],
   "source": [
    "def evaluate(model, choice=None, seed=None):\n",
    "    if seed is not None:\n",
    "        torch.manual_seed(seed)\n",
    "        np.random.seed(seed)\n",
    "    criterion = nn.CrossEntropyLoss()\n",
    "    model.eval()\n",
    "    val_loss = 0\n",
    "    val_acc = 0\n",
    "    global val_loader  # ensures that we will validate only on truly val_data!\n",
    "    tq = tqdm(val_loader, leave=False)\n",
    "    for x, cls in tq:\n",
    "        with torch.no_grad():\n",
    "            if isinstance(model, SuperNet):\n",
    "                out, _ = model(x.to(device), choice)\n",
    "            else:\n",
    "                out = model(x.to(device))\n",
    "        loss = criterion(out, cls.to(device))\n",
    "        val_loss += loss.item() / len(val_loader)\n",
    "        val_acc += accuracy_score(cls, out.cpu().argmax(-1)) / len(val_loader)\n",
    "        tq.set_postfix(loss=f'{loss.item():.4f}')\n",
    "    return val_loss, val_acc"
   ]
  },
  {
   "cell_type": "code",
   "execution_count": 17,
   "metadata": {
    "ExecuteTime": {
     "end_time": "2020-08-13T18:52:42.923529Z",
     "start_time": "2020-08-13T18:52:42.915529Z"
    },
    "code_folding": [
     0
    ]
   },
   "outputs": [],
   "source": [
    "def train(epochs, train_loader, model, controller=None, gamma_start=0.0, gamma_end=0.0, lr=3e-3, prefix_name=''):\n",
    "\n",
    "    if isinstance(model, SuperNet):\n",
    "        gamma_scheduler = GammaScheduler(model, total_steps=epochs*len(train_loader), gamma_start=gamma_start, gamma_end=gamma_end)\n",
    "    else:\n",
    "        gamma_scheduler = None\n",
    "        \n",
    "    optimizer = torch.optim.Adam(model.parameters(), lr=lr)\n",
    "    criterion = nn.CrossEntropyLoss()\n",
    "    history = []\n",
    "\n",
    "    for epoch in range(epochs):\n",
    "        train_loss = 0\n",
    "        val_loss = 0\n",
    "        best_val_loss = float('inf')\n",
    "\n",
    "        # Train on 50k/60k training data\n",
    "        model.train()\n",
    "        tq = tqdm(train_loader, leave=False)\n",
    "        for x, cls in tq:\n",
    "            if isinstance(model, SuperNet):\n",
    "                out, choice = model(x.to(device))\n",
    "            else:\n",
    "                out = model(x.to(device))\n",
    "            loss = criterion(out, cls.to(device))\n",
    "            optimizer.zero_grad()\n",
    "            loss.backward()\n",
    "            norm = torch.nn.utils.clip_grad_norm_(model.parameters(), 10)\n",
    "            optimizer.step()\n",
    "            train_loss += loss.item() / len(train_loader)\n",
    "            if gamma_scheduler:\n",
    "                gamma_scheduler.step()\n",
    "            if controller:\n",
    "                controller.update_score(choice, loss.item())\n",
    "            tq.set_postfix(loss=f'{loss.item():.4f}', norm=f'{norm:.4f}')\n",
    "\n",
    "        # Evaluate on 10k/60k training data\n",
    "        model.eval()\n",
    "        tq = tqdm(train_subval_loader, leave=False)\n",
    "        for x, cls in tq:\n",
    "            with torch.no_grad():\n",
    "                if isinstance(model, SuperNet):\n",
    "                    out, choice = model(x.to(device))\n",
    "                else:\n",
    "                    out = model(x.to(device))\n",
    "            loss = criterion(out, cls.to(device))\n",
    "            val_loss += loss.item() / len(train_subval_loader)\n",
    "            if controller:\n",
    "                controller.update_score(choice, loss.item())\n",
    "            tq.set_postfix(loss=f'{loss.item():.4f}')\n",
    "\n",
    "        history.append([train_loss, val_loss])\n",
    "        state_dict = {'model': model.state_dict(), 'controller': controller, 'gamma_scheduler': gamma_scheduler, 'history': history}\n",
    "        torch.save(state_dict, f'{prefix_name}_last.pt')\n",
    "        if (val_loss < best_val_loss):\n",
    "            best_val_loss = val_loss\n",
    "            torch.save(state_dict, f'{prefix_name}_best.pt')\n",
    "\n",
    "        print(f'{epoch+1:>2} / {epochs:>2}, loss = {train_loss:.4f}, val_loss = {val_loss:.4f}')\n",
    "\n",
    "    return history"
   ]
  },
  {
   "cell_type": "code",
   "execution_count": 6,
   "metadata": {
    "ExecuteTime": {
     "end_time": "2020-08-13T18:50:42.210625Z",
     "start_time": "2020-08-13T18:50:42.203624Z"
    },
    "code_folding": []
   },
   "outputs": [],
   "source": [
    "def ConvBlock(in_channels, out_channels, kernel_size, **kw):\n",
    "    return nn.Sequential(\n",
    "        nn.Conv2d(in_channels, out_channels, kernel_size, **kw),\n",
    "        nn.ReLU(),\n",
    "    )\n",
    "\n",
    "choices_1 = [\n",
    "    ConvBlock(1, 32, (3,3), padding=1),\n",
    "    ConvBlock(1, 32, (5,5), padding=2),\n",
    "]\n",
    "\n",
    "choices_2 = [\n",
    "    ConvBlock(32, 64, (3,3), padding=1),\n",
    "    ConvBlock(32, 64, (5,5), padding=2)\n",
    "]"
   ]
  },
  {
   "cell_type": "markdown",
   "metadata": {},
   "source": [
    "## Experiment 1: Train SuperNet as single net (no dropout)"
   ]
  },
  {
   "cell_type": "code",
   "execution_count": 10,
   "metadata": {
    "ExecuteTime": {
     "end_time": "2020-08-13T15:10:35.558294Z",
     "start_time": "2020-08-13T15:10:34.250219Z"
    }
   },
   "outputs": [],
   "source": [
    "supernet = SuperNet([\n",
    "    ChoiceBlockWrapper(choices_1, dropout_gamma=0.0),\n",
    "    nn.MaxPool2d((2,2), stride=2),\n",
    "    ChoiceBlockWrapper(choices_2, dropout_gamma=0.0),\n",
    "    nn.MaxPool2d((2,2), stride=2),\n",
    "    nn.Flatten(),\n",
    "    nn.Linear(7*7*64, 32),\n",
    "    nn.ReLU(),\n",
    "    nn.Linear(32, 10)\n",
    "]).to(device)"
   ]
  },
  {
   "cell_type": "markdown",
   "metadata": {},
   "source": [
    "**Обучение SuperNet**"
   ]
  },
  {
   "cell_type": "code",
   "execution_count": 11,
   "metadata": {
    "ExecuteTime": {
     "end_time": "2020-08-13T15:13:47.956298Z",
     "start_time": "2020-08-13T15:10:50.584153Z"
    }
   },
   "outputs": [
    {
     "data": {
      "application/vnd.jupyter.widget-view+json": {
       "model_id": "",
       "version_major": 2,
       "version_minor": 0
      },
      "text/plain": [
       "HBox(children=(FloatProgress(value=0.0, max=1000.0), HTML(value='')))"
      ]
     },
     "metadata": {},
     "output_type": "display_data"
    },
    {
     "name": "stdout",
     "output_type": "stream",
     "text": [
      "\r"
     ]
    },
    {
     "data": {
      "application/vnd.jupyter.widget-view+json": {
       "model_id": "",
       "version_major": 2,
       "version_minor": 0
      },
      "text/plain": [
       "HBox(children=(FloatProgress(value=0.0, max=200.0), HTML(value='')))"
      ]
     },
     "metadata": {},
     "output_type": "display_data"
    },
    {
     "name": "stdout",
     "output_type": "stream",
     "text": [
      "\r",
      " 1 /  5, loss = 0.4546, val_loss = 0.2391\n"
     ]
    },
    {
     "name": "stderr",
     "output_type": "stream",
     "text": [
      "e:\\program files win2\\python36\\lib\\site-packages\\torch\\serialization.py:360: UserWarning: Couldn't retrieve source code for container of type SuperNet. It won't be checked for correctness upon loading.\n",
      "  \"type \" + obj.__name__ + \". It won't be checked \"\n",
      "e:\\program files win2\\python36\\lib\\site-packages\\torch\\serialization.py:360: UserWarning: Couldn't retrieve source code for container of type ChoiceBlockWrapper. It won't be checked for correctness upon loading.\n",
      "  \"type \" + obj.__name__ + \". It won't be checked \"\n"
     ]
    },
    {
     "data": {
      "application/vnd.jupyter.widget-view+json": {
       "model_id": "",
       "version_major": 2,
       "version_minor": 0
      },
      "text/plain": [
       "HBox(children=(FloatProgress(value=0.0, max=1000.0), HTML(value='')))"
      ]
     },
     "metadata": {},
     "output_type": "display_data"
    },
    {
     "name": "stdout",
     "output_type": "stream",
     "text": [
      "\r"
     ]
    },
    {
     "data": {
      "application/vnd.jupyter.widget-view+json": {
       "model_id": "",
       "version_major": 2,
       "version_minor": 0
      },
      "text/plain": [
       "HBox(children=(FloatProgress(value=0.0, max=200.0), HTML(value='')))"
      ]
     },
     "metadata": {},
     "output_type": "display_data"
    },
    {
     "name": "stdout",
     "output_type": "stream",
     "text": [
      "\r",
      " 2 /  5, loss = 0.2002, val_loss = 0.1511\n"
     ]
    },
    {
     "data": {
      "application/vnd.jupyter.widget-view+json": {
       "model_id": "",
       "version_major": 2,
       "version_minor": 0
      },
      "text/plain": [
       "HBox(children=(FloatProgress(value=0.0, max=1000.0), HTML(value='')))"
      ]
     },
     "metadata": {},
     "output_type": "display_data"
    },
    {
     "name": "stdout",
     "output_type": "stream",
     "text": [
      "\r"
     ]
    },
    {
     "data": {
      "application/vnd.jupyter.widget-view+json": {
       "model_id": "",
       "version_major": 2,
       "version_minor": 0
      },
      "text/plain": [
       "HBox(children=(FloatProgress(value=0.0, max=200.0), HTML(value='')))"
      ]
     },
     "metadata": {},
     "output_type": "display_data"
    },
    {
     "name": "stdout",
     "output_type": "stream",
     "text": [
      "\r",
      " 3 /  5, loss = 0.1491, val_loss = 0.1469\n"
     ]
    },
    {
     "data": {
      "application/vnd.jupyter.widget-view+json": {
       "model_id": "",
       "version_major": 2,
       "version_minor": 0
      },
      "text/plain": [
       "HBox(children=(FloatProgress(value=0.0, max=1000.0), HTML(value='')))"
      ]
     },
     "metadata": {},
     "output_type": "display_data"
    },
    {
     "name": "stdout",
     "output_type": "stream",
     "text": [
      "\r"
     ]
    },
    {
     "data": {
      "application/vnd.jupyter.widget-view+json": {
       "model_id": "",
       "version_major": 2,
       "version_minor": 0
      },
      "text/plain": [
       "HBox(children=(FloatProgress(value=0.0, max=200.0), HTML(value='')))"
      ]
     },
     "metadata": {},
     "output_type": "display_data"
    },
    {
     "name": "stdout",
     "output_type": "stream",
     "text": [
      "\r",
      " 4 /  5, loss = 0.1282, val_loss = 0.1219\n"
     ]
    },
    {
     "data": {
      "application/vnd.jupyter.widget-view+json": {
       "model_id": "",
       "version_major": 2,
       "version_minor": 0
      },
      "text/plain": [
       "HBox(children=(FloatProgress(value=0.0, max=1000.0), HTML(value='')))"
      ]
     },
     "metadata": {},
     "output_type": "display_data"
    },
    {
     "name": "stdout",
     "output_type": "stream",
     "text": [
      "\r"
     ]
    },
    {
     "data": {
      "application/vnd.jupyter.widget-view+json": {
       "model_id": "",
       "version_major": 2,
       "version_minor": 0
      },
      "text/plain": [
       "HBox(children=(FloatProgress(value=0.0, max=200.0), HTML(value='')))"
      ]
     },
     "metadata": {},
     "output_type": "display_data"
    },
    {
     "name": "stdout",
     "output_type": "stream",
     "text": [
      "\r",
      " 5 /  5, loss = 0.1143, val_loss = 0.1109\n"
     ]
    },
    {
     "data": {
      "text/plain": [
       "[[0.4545550864525139, 0.23909049877896899],\n",
       " [0.20015452090091992, 0.15110139512689788],\n",
       " [0.14905943057965476, 0.14685055440757425],\n",
       " [0.1281772483321837, 0.12190849650651213],\n",
       " [0.11434158261073749, 0.11090972068719561]]"
      ]
     },
     "execution_count": 11,
     "metadata": {},
     "output_type": "execute_result"
    }
   ],
   "source": [
    "train(5, train_loader, supernet, gamma_start=0.0, gamma_end=0.0, prefix_name='single_net')"
   ]
  },
  {
   "cell_type": "markdown",
   "metadata": {},
   "source": [
    "**accuracy насэмплированных:**"
   ]
  },
  {
   "cell_type": "code",
   "execution_count": 14,
   "metadata": {
    "ExecuteTime": {
     "end_time": "2020-08-13T15:14:37.086108Z",
     "start_time": "2020-08-13T15:14:30.287719Z"
    },
    "code_folding": []
   },
   "outputs": [
    {
     "data": {
      "application/vnd.jupyter.widget-view+json": {
       "model_id": "",
       "version_major": 2,
       "version_minor": 0
      },
      "text/plain": [
       "HBox(children=(FloatProgress(value=0.0, max=50.0), HTML(value='')))"
      ]
     },
     "metadata": {},
     "output_type": "display_data"
    },
    {
     "name": "stdout",
     "output_type": "stream",
     "text": [
      "((0,), (0,)) (1.279055244922638, 0.5812999999999999)\n"
     ]
    },
    {
     "data": {
      "application/vnd.jupyter.widget-view+json": {
       "model_id": "",
       "version_major": 2,
       "version_minor": 0
      },
      "text/plain": [
       "HBox(children=(FloatProgress(value=0.0, max=50.0), HTML(value='')))"
      ]
     },
     "metadata": {},
     "output_type": "display_data"
    },
    {
     "name": "stdout",
     "output_type": "stream",
     "text": [
      "((0,), (1,)) (2.0458537006378177, 0.23870000000000005)\n"
     ]
    },
    {
     "data": {
      "application/vnd.jupyter.widget-view+json": {
       "model_id": "",
       "version_major": 2,
       "version_minor": 0
      },
      "text/plain": [
       "HBox(children=(FloatProgress(value=0.0, max=50.0), HTML(value='')))"
      ]
     },
     "metadata": {},
     "output_type": "display_data"
    },
    {
     "name": "stdout",
     "output_type": "stream",
     "text": [
      "((1,), (0,)) (0.8510182511806488, 0.6942)\n"
     ]
    },
    {
     "data": {
      "application/vnd.jupyter.widget-view+json": {
       "model_id": "",
       "version_major": 2,
       "version_minor": 0
      },
      "text/plain": [
       "HBox(children=(FloatProgress(value=0.0, max=50.0), HTML(value='')))"
      ]
     },
     "metadata": {},
     "output_type": "display_data"
    },
    {
     "name": "stdout",
     "output_type": "stream",
     "text": [
      "((1,), (1,)) (1.859289014339447, 0.3795)\n"
     ]
    }
   ],
   "source": [
    "scores_oneshot_1 = {}\n",
    "for choice in supernet.get_all_choices(parallel_limit=1):\n",
    "    score = evaluate(supernet, choice)\n",
    "    scores_oneshot_1[choice] = score\n",
    "    print(choice, score)"
   ]
  },
  {
   "cell_type": "markdown",
   "metadata": {},
   "source": [
    "## Experiment 2: Train with constant PathDropout 0.1"
   ]
  },
  {
   "cell_type": "code",
   "execution_count": 15,
   "metadata": {
    "ExecuteTime": {
     "end_time": "2020-08-13T15:15:06.509791Z",
     "start_time": "2020-08-13T15:15:06.488790Z"
    }
   },
   "outputs": [],
   "source": [
    "supernet = SuperNet([\n",
    "    ChoiceBlockWrapper(choices_1, dropout_gamma=0.1),\n",
    "    nn.MaxPool2d((2,2), stride=2),\n",
    "    ChoiceBlockWrapper(choices_2, dropout_gamma=0.1),\n",
    "    nn.MaxPool2d((2,2), stride=2),\n",
    "    nn.Flatten(),\n",
    "    nn.Linear(7*7*64, 32),\n",
    "    nn.ReLU(),\n",
    "    nn.Linear(32, 10)\n",
    "]).to(device)"
   ]
  },
  {
   "cell_type": "markdown",
   "metadata": {},
   "source": [
    "**Обучение SuperNet**"
   ]
  },
  {
   "cell_type": "code",
   "execution_count": 16,
   "metadata": {
    "ExecuteTime": {
     "end_time": "2020-08-13T15:18:00.699754Z",
     "start_time": "2020-08-13T15:15:10.256006Z"
    }
   },
   "outputs": [
    {
     "data": {
      "application/vnd.jupyter.widget-view+json": {
       "model_id": "",
       "version_major": 2,
       "version_minor": 0
      },
      "text/plain": [
       "HBox(children=(FloatProgress(value=0.0, max=1000.0), HTML(value='')))"
      ]
     },
     "metadata": {},
     "output_type": "display_data"
    },
    {
     "data": {
      "application/vnd.jupyter.widget-view+json": {
       "model_id": "",
       "version_major": 2,
       "version_minor": 0
      },
      "text/plain": [
       "HBox(children=(FloatProgress(value=0.0, max=200.0), HTML(value='')))"
      ]
     },
     "metadata": {},
     "output_type": "display_data"
    },
    {
     "name": "stdout",
     "output_type": "stream",
     "text": [
      " 1 /  5, loss = 0.3258, val_loss = 0.1654\n"
     ]
    },
    {
     "name": "stderr",
     "output_type": "stream",
     "text": [
      "e:\\program files win2\\python36\\lib\\site-packages\\torch\\serialization.py:360: UserWarning: Couldn't retrieve source code for container of type SuperNet. It won't be checked for correctness upon loading.\n",
      "  \"type \" + obj.__name__ + \". It won't be checked \"\n",
      "e:\\program files win2\\python36\\lib\\site-packages\\torch\\serialization.py:360: UserWarning: Couldn't retrieve source code for container of type ChoiceBlockWrapper. It won't be checked for correctness upon loading.\n",
      "  \"type \" + obj.__name__ + \". It won't be checked \"\n"
     ]
    },
    {
     "data": {
      "application/vnd.jupyter.widget-view+json": {
       "model_id": "",
       "version_major": 2,
       "version_minor": 0
      },
      "text/plain": [
       "HBox(children=(FloatProgress(value=0.0, max=1000.0), HTML(value='')))"
      ]
     },
     "metadata": {},
     "output_type": "display_data"
    },
    {
     "data": {
      "application/vnd.jupyter.widget-view+json": {
       "model_id": "",
       "version_major": 2,
       "version_minor": 0
      },
      "text/plain": [
       "HBox(children=(FloatProgress(value=0.0, max=200.0), HTML(value='')))"
      ]
     },
     "metadata": {},
     "output_type": "display_data"
    },
    {
     "name": "stdout",
     "output_type": "stream",
     "text": [
      " 2 /  5, loss = 0.1533, val_loss = 0.1417\n"
     ]
    },
    {
     "data": {
      "application/vnd.jupyter.widget-view+json": {
       "model_id": "",
       "version_major": 2,
       "version_minor": 0
      },
      "text/plain": [
       "HBox(children=(FloatProgress(value=0.0, max=1000.0), HTML(value='')))"
      ]
     },
     "metadata": {},
     "output_type": "display_data"
    },
    {
     "data": {
      "application/vnd.jupyter.widget-view+json": {
       "model_id": "",
       "version_major": 2,
       "version_minor": 0
      },
      "text/plain": [
       "HBox(children=(FloatProgress(value=0.0, max=200.0), HTML(value='')))"
      ]
     },
     "metadata": {},
     "output_type": "display_data"
    },
    {
     "name": "stdout",
     "output_type": "stream",
     "text": [
      " 3 /  5, loss = 0.1288, val_loss = 0.1123\n"
     ]
    },
    {
     "data": {
      "application/vnd.jupyter.widget-view+json": {
       "model_id": "",
       "version_major": 2,
       "version_minor": 0
      },
      "text/plain": [
       "HBox(children=(FloatProgress(value=0.0, max=1000.0), HTML(value='')))"
      ]
     },
     "metadata": {},
     "output_type": "display_data"
    },
    {
     "data": {
      "application/vnd.jupyter.widget-view+json": {
       "model_id": "",
       "version_major": 2,
       "version_minor": 0
      },
      "text/plain": [
       "HBox(children=(FloatProgress(value=0.0, max=200.0), HTML(value='')))"
      ]
     },
     "metadata": {},
     "output_type": "display_data"
    },
    {
     "name": "stdout",
     "output_type": "stream",
     "text": [
      " 4 /  5, loss = 0.1186, val_loss = 0.1193\n"
     ]
    },
    {
     "data": {
      "application/vnd.jupyter.widget-view+json": {
       "model_id": "",
       "version_major": 2,
       "version_minor": 0
      },
      "text/plain": [
       "HBox(children=(FloatProgress(value=0.0, max=1000.0), HTML(value='')))"
      ]
     },
     "metadata": {},
     "output_type": "display_data"
    },
    {
     "data": {
      "application/vnd.jupyter.widget-view+json": {
       "model_id": "",
       "version_major": 2,
       "version_minor": 0
      },
      "text/plain": [
       "HBox(children=(FloatProgress(value=0.0, max=200.0), HTML(value='')))"
      ]
     },
     "metadata": {},
     "output_type": "display_data"
    },
    {
     "name": "stdout",
     "output_type": "stream",
     "text": [
      " 5 /  5, loss = 0.1058, val_loss = 0.1009\n"
     ]
    },
    {
     "data": {
      "text/plain": [
       "[[0.3258411345524949, 0.1654186365322674],\n",
       " [0.15331000199110742, 0.14171001661619806],\n",
       " [0.12884424309403414, 0.11233313353284757],\n",
       " [0.11861943497815815, 0.11926191262726206],\n",
       " [0.10576276401366062, 0.10088026486871059]]"
      ]
     },
     "execution_count": 16,
     "metadata": {},
     "output_type": "execute_result"
    }
   ],
   "source": [
    "train(5, train_loader, supernet, gamma_start=0.1, gamma_end=0.1, prefix_name='path_dropout_01')"
   ]
  },
  {
   "cell_type": "markdown",
   "metadata": {},
   "source": [
    "**accuracy насэмплированных:**"
   ]
  },
  {
   "cell_type": "code",
   "execution_count": 17,
   "metadata": {
    "ExecuteTime": {
     "end_time": "2020-08-13T15:18:07.329134Z",
     "start_time": "2020-08-13T15:18:00.700754Z"
    }
   },
   "outputs": [
    {
     "data": {
      "application/vnd.jupyter.widget-view+json": {
       "model_id": "",
       "version_major": 2,
       "version_minor": 0
      },
      "text/plain": [
       "HBox(children=(FloatProgress(value=0.0, max=50.0), HTML(value='')))"
      ]
     },
     "metadata": {},
     "output_type": "display_data"
    },
    {
     "name": "stdout",
     "output_type": "stream",
     "text": [
      "((0,), (0,)) (0.08939035969786346, 0.9740000000000003)\n"
     ]
    },
    {
     "data": {
      "application/vnd.jupyter.widget-view+json": {
       "model_id": "",
       "version_major": 2,
       "version_minor": 0
      },
      "text/plain": [
       "HBox(children=(FloatProgress(value=0.0, max=50.0), HTML(value='')))"
      ]
     },
     "metadata": {},
     "output_type": "display_data"
    },
    {
     "name": "stdout",
     "output_type": "stream",
     "text": [
      "((0,), (1,)) (0.14887817274779083, 0.9583000000000002)\n"
     ]
    },
    {
     "data": {
      "application/vnd.jupyter.widget-view+json": {
       "model_id": "",
       "version_major": 2,
       "version_minor": 0
      },
      "text/plain": [
       "HBox(children=(FloatProgress(value=0.0, max=50.0), HTML(value='')))"
      ]
     },
     "metadata": {},
     "output_type": "display_data"
    },
    {
     "name": "stdout",
     "output_type": "stream",
     "text": [
      "((1,), (0,)) (0.09292864842340348, 0.9709000000000001)\n"
     ]
    },
    {
     "data": {
      "application/vnd.jupyter.widget-view+json": {
       "model_id": "",
       "version_major": 2,
       "version_minor": 0
      },
      "text/plain": [
       "HBox(children=(FloatProgress(value=0.0, max=50.0), HTML(value='')))"
      ]
     },
     "metadata": {},
     "output_type": "display_data"
    },
    {
     "name": "stdout",
     "output_type": "stream",
     "text": [
      "((1,), (1,)) (0.13144653026014563, 0.9653)\n"
     ]
    }
   ],
   "source": [
    "scores_oneshot_2 = {}\n",
    "for choice in supernet.get_all_choices(parallel_limit=1):\n",
    "    score = evaluate(supernet, choice)\n",
    "    scores_oneshot_2[choice] = score\n",
    "    print(choice, score)"
   ]
  },
  {
   "cell_type": "markdown",
   "metadata": {},
   "source": [
    "## Experiment 3: Train with PathDropout 0.01..0.3"
   ]
  },
  {
   "cell_type": "code",
   "execution_count": 18,
   "metadata": {
    "ExecuteTime": {
     "end_time": "2020-08-13T15:18:07.338134Z",
     "start_time": "2020-08-13T15:18:07.330134Z"
    }
   },
   "outputs": [],
   "source": [
    "supernet = SuperNet([\n",
    "    ChoiceBlockWrapper(choices_1, dropout_gamma=0.01),\n",
    "    nn.MaxPool2d((2,2), stride=2),\n",
    "    ChoiceBlockWrapper(choices_2, dropout_gamma=0.01),\n",
    "    nn.MaxPool2d((2,2), stride=2),\n",
    "    nn.Flatten(),\n",
    "    nn.Linear(7*7*64, 32),\n",
    "    nn.ReLU(),\n",
    "    nn.Linear(32, 10)\n",
    "]).to(device)"
   ]
  },
  {
   "cell_type": "markdown",
   "metadata": {},
   "source": [
    "**Обучение SuperNet**"
   ]
  },
  {
   "cell_type": "code",
   "execution_count": 19,
   "metadata": {
    "ExecuteTime": {
     "end_time": "2020-08-13T15:20:51.551527Z",
     "start_time": "2020-08-13T15:18:07.340134Z"
    }
   },
   "outputs": [
    {
     "data": {
      "application/vnd.jupyter.widget-view+json": {
       "model_id": "",
       "version_major": 2,
       "version_minor": 0
      },
      "text/plain": [
       "HBox(children=(FloatProgress(value=0.0, max=1000.0), HTML(value='')))"
      ]
     },
     "metadata": {},
     "output_type": "display_data"
    },
    {
     "data": {
      "application/vnd.jupyter.widget-view+json": {
       "model_id": "",
       "version_major": 2,
       "version_minor": 0
      },
      "text/plain": [
       "HBox(children=(FloatProgress(value=0.0, max=200.0), HTML(value='')))"
      ]
     },
     "metadata": {},
     "output_type": "display_data"
    },
    {
     "name": "stdout",
     "output_type": "stream",
     "text": [
      " 1 /  5, loss = 0.1913, val_loss = 0.1629\n"
     ]
    },
    {
     "name": "stderr",
     "output_type": "stream",
     "text": [
      "e:\\program files win2\\python36\\lib\\site-packages\\torch\\serialization.py:360: UserWarning: Couldn't retrieve source code for container of type SuperNet. It won't be checked for correctness upon loading.\n",
      "  \"type \" + obj.__name__ + \". It won't be checked \"\n",
      "e:\\program files win2\\python36\\lib\\site-packages\\torch\\serialization.py:360: UserWarning: Couldn't retrieve source code for container of type ChoiceBlockWrapper. It won't be checked for correctness upon loading.\n",
      "  \"type \" + obj.__name__ + \". It won't be checked \"\n"
     ]
    },
    {
     "data": {
      "application/vnd.jupyter.widget-view+json": {
       "model_id": "",
       "version_major": 2,
       "version_minor": 0
      },
      "text/plain": [
       "HBox(children=(FloatProgress(value=0.0, max=1000.0), HTML(value='')))"
      ]
     },
     "metadata": {},
     "output_type": "display_data"
    },
    {
     "data": {
      "application/vnd.jupyter.widget-view+json": {
       "model_id": "",
       "version_major": 2,
       "version_minor": 0
      },
      "text/plain": [
       "HBox(children=(FloatProgress(value=0.0, max=200.0), HTML(value='')))"
      ]
     },
     "metadata": {},
     "output_type": "display_data"
    },
    {
     "name": "stdout",
     "output_type": "stream",
     "text": [
      " 2 /  5, loss = 0.1271, val_loss = 0.1139\n"
     ]
    },
    {
     "data": {
      "application/vnd.jupyter.widget-view+json": {
       "model_id": "",
       "version_major": 2,
       "version_minor": 0
      },
      "text/plain": [
       "HBox(children=(FloatProgress(value=0.0, max=1000.0), HTML(value='')))"
      ]
     },
     "metadata": {},
     "output_type": "display_data"
    },
    {
     "data": {
      "application/vnd.jupyter.widget-view+json": {
       "model_id": "",
       "version_major": 2,
       "version_minor": 0
      },
      "text/plain": [
       "HBox(children=(FloatProgress(value=0.0, max=200.0), HTML(value='')))"
      ]
     },
     "metadata": {},
     "output_type": "display_data"
    },
    {
     "name": "stdout",
     "output_type": "stream",
     "text": [
      " 3 /  5, loss = 0.1122, val_loss = 0.1110\n"
     ]
    },
    {
     "data": {
      "application/vnd.jupyter.widget-view+json": {
       "model_id": "",
       "version_major": 2,
       "version_minor": 0
      },
      "text/plain": [
       "HBox(children=(FloatProgress(value=0.0, max=1000.0), HTML(value='')))"
      ]
     },
     "metadata": {},
     "output_type": "display_data"
    },
    {
     "data": {
      "application/vnd.jupyter.widget-view+json": {
       "model_id": "",
       "version_major": 2,
       "version_minor": 0
      },
      "text/plain": [
       "HBox(children=(FloatProgress(value=0.0, max=200.0), HTML(value='')))"
      ]
     },
     "metadata": {},
     "output_type": "display_data"
    },
    {
     "name": "stdout",
     "output_type": "stream",
     "text": [
      " 4 /  5, loss = 0.1060, val_loss = 0.0951\n"
     ]
    },
    {
     "data": {
      "application/vnd.jupyter.widget-view+json": {
       "model_id": "",
       "version_major": 2,
       "version_minor": 0
      },
      "text/plain": [
       "HBox(children=(FloatProgress(value=0.0, max=1000.0), HTML(value='')))"
      ]
     },
     "metadata": {},
     "output_type": "display_data"
    },
    {
     "data": {
      "application/vnd.jupyter.widget-view+json": {
       "model_id": "",
       "version_major": 2,
       "version_minor": 0
      },
      "text/plain": [
       "HBox(children=(FloatProgress(value=0.0, max=200.0), HTML(value='')))"
      ]
     },
     "metadata": {},
     "output_type": "display_data"
    },
    {
     "name": "stdout",
     "output_type": "stream",
     "text": [
      " 5 /  5, loss = 0.1005, val_loss = 0.1044\n"
     ]
    },
    {
     "data": {
      "text/plain": [
       "[[0.19133856661815637, 0.16286770090780914],\n",
       " [0.12711395261660807, 0.11394026622711635],\n",
       " [0.11217171575990868, 0.11102066602812546],\n",
       " [0.10600833720385897, 0.09510409154143418],\n",
       " [0.10045162195886889, 0.10436356189356275]]"
      ]
     },
     "execution_count": 19,
     "metadata": {},
     "output_type": "execute_result"
    }
   ],
   "source": [
    "train(5, train_loader, supernet, gamma_start=0.01, gamma_end=0.3, prefix_name='path_dropout_001_03')"
   ]
  },
  {
   "cell_type": "markdown",
   "metadata": {},
   "source": [
    "**accuracy насэмплированных:**"
   ]
  },
  {
   "cell_type": "code",
   "execution_count": 20,
   "metadata": {
    "ExecuteTime": {
     "end_time": "2020-08-13T15:20:58.192906Z",
     "start_time": "2020-08-13T15:20:51.552527Z"
    }
   },
   "outputs": [
    {
     "data": {
      "application/vnd.jupyter.widget-view+json": {
       "model_id": "",
       "version_major": 2,
       "version_minor": 0
      },
      "text/plain": [
       "HBox(children=(FloatProgress(value=0.0, max=50.0), HTML(value='')))"
      ]
     },
     "metadata": {},
     "output_type": "display_data"
    },
    {
     "name": "stdout",
     "output_type": "stream",
     "text": [
      "((0,), (0,)) (0.09106703162193296, 0.9713000000000002)\n"
     ]
    },
    {
     "data": {
      "application/vnd.jupyter.widget-view+json": {
       "model_id": "",
       "version_major": 2,
       "version_minor": 0
      },
      "text/plain": [
       "HBox(children=(FloatProgress(value=0.0, max=50.0), HTML(value='')))"
      ]
     },
     "metadata": {},
     "output_type": "display_data"
    },
    {
     "name": "stdout",
     "output_type": "stream",
     "text": [
      "((0,), (1,)) (0.13037103960290555, 0.9592999999999999)\n"
     ]
    },
    {
     "data": {
      "application/vnd.jupyter.widget-view+json": {
       "model_id": "",
       "version_major": 2,
       "version_minor": 0
      },
      "text/plain": [
       "HBox(children=(FloatProgress(value=0.0, max=50.0), HTML(value='')))"
      ]
     },
     "metadata": {},
     "output_type": "display_data"
    },
    {
     "name": "stdout",
     "output_type": "stream",
     "text": [
      "((1,), (0,)) (0.08308377595152705, 0.9746000000000002)\n"
     ]
    },
    {
     "data": {
      "application/vnd.jupyter.widget-view+json": {
       "model_id": "",
       "version_major": 2,
       "version_minor": 0
      },
      "text/plain": [
       "HBox(children=(FloatProgress(value=0.0, max=50.0), HTML(value='')))"
      ]
     },
     "metadata": {},
     "output_type": "display_data"
    },
    {
     "name": "stdout",
     "output_type": "stream",
     "text": [
      "((1,), (1,)) (0.11272759557701646, 0.9664000000000005)\n"
     ]
    }
   ],
   "source": [
    "scores_oneshot_3 = {}\n",
    "for choice in supernet.get_all_choices(parallel_limit=1):\n",
    "    score = evaluate(supernet, choice)\n",
    "    scores_oneshot_3[choice] = score\n",
    "    print(choice, score)"
   ]
  },
  {
   "cell_type": "markdown",
   "metadata": {},
   "source": [
    "## Reference: Train stand-alone models (Обучение с нуля)"
   ]
  },
  {
   "cell_type": "code",
   "execution_count": 21,
   "metadata": {
    "ExecuteTime": {
     "end_time": "2020-08-13T15:20:58.202907Z",
     "start_time": "2020-08-13T15:20:58.193906Z"
    }
   },
   "outputs": [],
   "source": [
    "supernet = SuperNet([\n",
    "    ChoiceBlockWrapper(choices_1, dropout_gamma=0.),\n",
    "    nn.MaxPool2d((2,2), stride=2),\n",
    "    ChoiceBlockWrapper(choices_2, dropout_gamma=0.),\n",
    "    nn.MaxPool2d((2,2), stride=2),\n",
    "    nn.Flatten(),\n",
    "    nn.Linear(7*7*64, 32),\n",
    "    nn.ReLU(),\n",
    "    nn.Linear(32, 10)\n",
    "]).to(device)"
   ]
  },
  {
   "cell_type": "markdown",
   "metadata": {},
   "source": [
    "**Обучаем каждую из 4 моделей с нуля**"
   ]
  },
  {
   "cell_type": "code",
   "execution_count": 22,
   "metadata": {
    "ExecuteTime": {
     "end_time": "2020-08-13T15:28:40.684359Z",
     "start_time": "2020-08-13T15:20:58.204907Z"
    },
    "collapsed": true
   },
   "outputs": [
    {
     "name": "stdout",
     "output_type": "stream",
     "text": [
      "((0,), (0,)) subnet_((0)(0))\n"
     ]
    },
    {
     "data": {
      "application/vnd.jupyter.widget-view+json": {
       "model_id": "",
       "version_major": 2,
       "version_minor": 0
      },
      "text/plain": [
       "HBox(children=(FloatProgress(value=0.0, max=1000.0), HTML(value='')))"
      ]
     },
     "metadata": {},
     "output_type": "display_data"
    },
    {
     "data": {
      "application/vnd.jupyter.widget-view+json": {
       "model_id": "",
       "version_major": 2,
       "version_minor": 0
      },
      "text/plain": [
       "HBox(children=(FloatProgress(value=0.0, max=200.0), HTML(value='')))"
      ]
     },
     "metadata": {},
     "output_type": "display_data"
    },
    {
     "name": "stdout",
     "output_type": "stream",
     "text": [
      " 1 /  5, loss = 0.1542, val_loss = 0.0995\n"
     ]
    },
    {
     "data": {
      "application/vnd.jupyter.widget-view+json": {
       "model_id": "",
       "version_major": 2,
       "version_minor": 0
      },
      "text/plain": [
       "HBox(children=(FloatProgress(value=0.0, max=1000.0), HTML(value='')))"
      ]
     },
     "metadata": {},
     "output_type": "display_data"
    },
    {
     "data": {
      "application/vnd.jupyter.widget-view+json": {
       "model_id": "",
       "version_major": 2,
       "version_minor": 0
      },
      "text/plain": [
       "HBox(children=(FloatProgress(value=0.0, max=200.0), HTML(value='')))"
      ]
     },
     "metadata": {},
     "output_type": "display_data"
    },
    {
     "name": "stdout",
     "output_type": "stream",
     "text": [
      " 2 /  5, loss = 0.0782, val_loss = 0.0911\n"
     ]
    },
    {
     "data": {
      "application/vnd.jupyter.widget-view+json": {
       "model_id": "",
       "version_major": 2,
       "version_minor": 0
      },
      "text/plain": [
       "HBox(children=(FloatProgress(value=0.0, max=1000.0), HTML(value='')))"
      ]
     },
     "metadata": {},
     "output_type": "display_data"
    },
    {
     "data": {
      "application/vnd.jupyter.widget-view+json": {
       "model_id": "",
       "version_major": 2,
       "version_minor": 0
      },
      "text/plain": [
       "HBox(children=(FloatProgress(value=0.0, max=200.0), HTML(value='')))"
      ]
     },
     "metadata": {},
     "output_type": "display_data"
    },
    {
     "name": "stdout",
     "output_type": "stream",
     "text": [
      " 3 /  5, loss = 0.0644, val_loss = 0.0847\n"
     ]
    },
    {
     "data": {
      "application/vnd.jupyter.widget-view+json": {
       "model_id": "",
       "version_major": 2,
       "version_minor": 0
      },
      "text/plain": [
       "HBox(children=(FloatProgress(value=0.0, max=1000.0), HTML(value='')))"
      ]
     },
     "metadata": {},
     "output_type": "display_data"
    },
    {
     "data": {
      "application/vnd.jupyter.widget-view+json": {
       "model_id": "",
       "version_major": 2,
       "version_minor": 0
      },
      "text/plain": [
       "HBox(children=(FloatProgress(value=0.0, max=200.0), HTML(value='')))"
      ]
     },
     "metadata": {},
     "output_type": "display_data"
    },
    {
     "name": "stdout",
     "output_type": "stream",
     "text": [
      " 4 /  5, loss = 0.0571, val_loss = 0.0708\n"
     ]
    },
    {
     "data": {
      "application/vnd.jupyter.widget-view+json": {
       "model_id": "",
       "version_major": 2,
       "version_minor": 0
      },
      "text/plain": [
       "HBox(children=(FloatProgress(value=0.0, max=1000.0), HTML(value='')))"
      ]
     },
     "metadata": {},
     "output_type": "display_data"
    },
    {
     "data": {
      "application/vnd.jupyter.widget-view+json": {
       "model_id": "",
       "version_major": 2,
       "version_minor": 0
      },
      "text/plain": [
       "HBox(children=(FloatProgress(value=0.0, max=200.0), HTML(value='')))"
      ]
     },
     "metadata": {},
     "output_type": "display_data"
    },
    {
     "name": "stdout",
     "output_type": "stream",
     "text": [
      " 5 /  5, loss = 0.0502, val_loss = 0.0603\n"
     ]
    },
    {
     "data": {
      "application/vnd.jupyter.widget-view+json": {
       "model_id": "",
       "version_major": 2,
       "version_minor": 0
      },
      "text/plain": [
       "HBox(children=(FloatProgress(value=0.0, max=50.0), HTML(value='')))"
      ]
     },
     "metadata": {},
     "output_type": "display_data"
    },
    {
     "name": "stdout",
     "output_type": "stream",
     "text": [
      "((0,), (0,)) (0.05303921536862616, 0.9835000000000005)\n",
      "((0,), (1,)) subnet_((0)(1))\n"
     ]
    },
    {
     "data": {
      "application/vnd.jupyter.widget-view+json": {
       "model_id": "",
       "version_major": 2,
       "version_minor": 0
      },
      "text/plain": [
       "HBox(children=(FloatProgress(value=0.0, max=1000.0), HTML(value='')))"
      ]
     },
     "metadata": {},
     "output_type": "display_data"
    },
    {
     "data": {
      "application/vnd.jupyter.widget-view+json": {
       "model_id": "",
       "version_major": 2,
       "version_minor": 0
      },
      "text/plain": [
       "HBox(children=(FloatProgress(value=0.0, max=200.0), HTML(value='')))"
      ]
     },
     "metadata": {},
     "output_type": "display_data"
    },
    {
     "name": "stdout",
     "output_type": "stream",
     "text": [
      " 1 /  5, loss = 0.2105, val_loss = 0.1237\n"
     ]
    },
    {
     "data": {
      "application/vnd.jupyter.widget-view+json": {
       "model_id": "",
       "version_major": 2,
       "version_minor": 0
      },
      "text/plain": [
       "HBox(children=(FloatProgress(value=0.0, max=1000.0), HTML(value='')))"
      ]
     },
     "metadata": {},
     "output_type": "display_data"
    },
    {
     "data": {
      "application/vnd.jupyter.widget-view+json": {
       "model_id": "",
       "version_major": 2,
       "version_minor": 0
      },
      "text/plain": [
       "HBox(children=(FloatProgress(value=0.0, max=200.0), HTML(value='')))"
      ]
     },
     "metadata": {},
     "output_type": "display_data"
    },
    {
     "name": "stdout",
     "output_type": "stream",
     "text": [
      " 2 /  5, loss = 0.1175, val_loss = 0.1113\n"
     ]
    },
    {
     "data": {
      "application/vnd.jupyter.widget-view+json": {
       "model_id": "",
       "version_major": 2,
       "version_minor": 0
      },
      "text/plain": [
       "HBox(children=(FloatProgress(value=0.0, max=1000.0), HTML(value='')))"
      ]
     },
     "metadata": {},
     "output_type": "display_data"
    },
    {
     "data": {
      "application/vnd.jupyter.widget-view+json": {
       "model_id": "",
       "version_major": 2,
       "version_minor": 0
      },
      "text/plain": [
       "HBox(children=(FloatProgress(value=0.0, max=200.0), HTML(value='')))"
      ]
     },
     "metadata": {},
     "output_type": "display_data"
    },
    {
     "name": "stdout",
     "output_type": "stream",
     "text": [
      " 3 /  5, loss = 0.1014, val_loss = 0.1149\n"
     ]
    },
    {
     "data": {
      "application/vnd.jupyter.widget-view+json": {
       "model_id": "",
       "version_major": 2,
       "version_minor": 0
      },
      "text/plain": [
       "HBox(children=(FloatProgress(value=0.0, max=1000.0), HTML(value='')))"
      ]
     },
     "metadata": {},
     "output_type": "display_data"
    },
    {
     "data": {
      "application/vnd.jupyter.widget-view+json": {
       "model_id": "",
       "version_major": 2,
       "version_minor": 0
      },
      "text/plain": [
       "HBox(children=(FloatProgress(value=0.0, max=200.0), HTML(value='')))"
      ]
     },
     "metadata": {},
     "output_type": "display_data"
    },
    {
     "name": "stdout",
     "output_type": "stream",
     "text": [
      " 4 /  5, loss = 0.0921, val_loss = 0.0953\n"
     ]
    },
    {
     "data": {
      "application/vnd.jupyter.widget-view+json": {
       "model_id": "",
       "version_major": 2,
       "version_minor": 0
      },
      "text/plain": [
       "HBox(children=(FloatProgress(value=0.0, max=1000.0), HTML(value='')))"
      ]
     },
     "metadata": {},
     "output_type": "display_data"
    },
    {
     "data": {
      "application/vnd.jupyter.widget-view+json": {
       "model_id": "",
       "version_major": 2,
       "version_minor": 0
      },
      "text/plain": [
       "HBox(children=(FloatProgress(value=0.0, max=200.0), HTML(value='')))"
      ]
     },
     "metadata": {},
     "output_type": "display_data"
    },
    {
     "name": "stdout",
     "output_type": "stream",
     "text": [
      " 5 /  5, loss = 0.0845, val_loss = 0.0951\n"
     ]
    },
    {
     "data": {
      "application/vnd.jupyter.widget-view+json": {
       "model_id": "",
       "version_major": 2,
       "version_minor": 0
      },
      "text/plain": [
       "HBox(children=(FloatProgress(value=0.0, max=50.0), HTML(value='')))"
      ]
     },
     "metadata": {},
     "output_type": "display_data"
    },
    {
     "name": "stdout",
     "output_type": "stream",
     "text": [
      "((0,), (1,)) (0.08682703863596544, 0.9738000000000001)\n",
      "((1,), (0,)) subnet_((1)(0))\n"
     ]
    },
    {
     "data": {
      "application/vnd.jupyter.widget-view+json": {
       "model_id": "",
       "version_major": 2,
       "version_minor": 0
      },
      "text/plain": [
       "HBox(children=(FloatProgress(value=0.0, max=1000.0), HTML(value='')))"
      ]
     },
     "metadata": {},
     "output_type": "display_data"
    },
    {
     "data": {
      "application/vnd.jupyter.widget-view+json": {
       "model_id": "",
       "version_major": 2,
       "version_minor": 0
      },
      "text/plain": [
       "HBox(children=(FloatProgress(value=0.0, max=200.0), HTML(value='')))"
      ]
     },
     "metadata": {},
     "output_type": "display_data"
    },
    {
     "name": "stdout",
     "output_type": "stream",
     "text": [
      " 1 /  5, loss = 0.1344, val_loss = 0.0742\n"
     ]
    },
    {
     "data": {
      "application/vnd.jupyter.widget-view+json": {
       "model_id": "",
       "version_major": 2,
       "version_minor": 0
      },
      "text/plain": [
       "HBox(children=(FloatProgress(value=0.0, max=1000.0), HTML(value='')))"
      ]
     },
     "metadata": {},
     "output_type": "display_data"
    },
    {
     "data": {
      "application/vnd.jupyter.widget-view+json": {
       "model_id": "",
       "version_major": 2,
       "version_minor": 0
      },
      "text/plain": [
       "HBox(children=(FloatProgress(value=0.0, max=200.0), HTML(value='')))"
      ]
     },
     "metadata": {},
     "output_type": "display_data"
    },
    {
     "name": "stdout",
     "output_type": "stream",
     "text": [
      " 2 /  5, loss = 0.0716, val_loss = 0.0666\n"
     ]
    },
    {
     "data": {
      "application/vnd.jupyter.widget-view+json": {
       "model_id": "",
       "version_major": 2,
       "version_minor": 0
      },
      "text/plain": [
       "HBox(children=(FloatProgress(value=0.0, max=1000.0), HTML(value='')))"
      ]
     },
     "metadata": {},
     "output_type": "display_data"
    },
    {
     "data": {
      "application/vnd.jupyter.widget-view+json": {
       "model_id": "",
       "version_major": 2,
       "version_minor": 0
      },
      "text/plain": [
       "HBox(children=(FloatProgress(value=0.0, max=200.0), HTML(value='')))"
      ]
     },
     "metadata": {},
     "output_type": "display_data"
    },
    {
     "name": "stdout",
     "output_type": "stream",
     "text": [
      " 3 /  5, loss = 0.0603, val_loss = 0.0846\n"
     ]
    },
    {
     "data": {
      "application/vnd.jupyter.widget-view+json": {
       "model_id": "",
       "version_major": 2,
       "version_minor": 0
      },
      "text/plain": [
       "HBox(children=(FloatProgress(value=0.0, max=1000.0), HTML(value='')))"
      ]
     },
     "metadata": {},
     "output_type": "display_data"
    },
    {
     "data": {
      "application/vnd.jupyter.widget-view+json": {
       "model_id": "",
       "version_major": 2,
       "version_minor": 0
      },
      "text/plain": [
       "HBox(children=(FloatProgress(value=0.0, max=200.0), HTML(value='')))"
      ]
     },
     "metadata": {},
     "output_type": "display_data"
    },
    {
     "name": "stdout",
     "output_type": "stream",
     "text": [
      " 4 /  5, loss = 0.0546, val_loss = 0.0900\n"
     ]
    },
    {
     "data": {
      "application/vnd.jupyter.widget-view+json": {
       "model_id": "",
       "version_major": 2,
       "version_minor": 0
      },
      "text/plain": [
       "HBox(children=(FloatProgress(value=0.0, max=1000.0), HTML(value='')))"
      ]
     },
     "metadata": {},
     "output_type": "display_data"
    },
    {
     "data": {
      "application/vnd.jupyter.widget-view+json": {
       "model_id": "",
       "version_major": 2,
       "version_minor": 0
      },
      "text/plain": [
       "HBox(children=(FloatProgress(value=0.0, max=200.0), HTML(value='')))"
      ]
     },
     "metadata": {},
     "output_type": "display_data"
    },
    {
     "name": "stdout",
     "output_type": "stream",
     "text": [
      " 5 /  5, loss = 0.0480, val_loss = 0.0703\n"
     ]
    },
    {
     "data": {
      "application/vnd.jupyter.widget-view+json": {
       "model_id": "",
       "version_major": 2,
       "version_minor": 0
      },
      "text/plain": [
       "HBox(children=(FloatProgress(value=0.0, max=50.0), HTML(value='')))"
      ]
     },
     "metadata": {},
     "output_type": "display_data"
    },
    {
     "name": "stdout",
     "output_type": "stream",
     "text": [
      "((1,), (0,)) (0.07313668595626951, 0.9780000000000003)\n",
      "((1,), (1,)) subnet_((1)(1))\n"
     ]
    },
    {
     "data": {
      "application/vnd.jupyter.widget-view+json": {
       "model_id": "",
       "version_major": 2,
       "version_minor": 0
      },
      "text/plain": [
       "HBox(children=(FloatProgress(value=0.0, max=1000.0), HTML(value='')))"
      ]
     },
     "metadata": {},
     "output_type": "display_data"
    },
    {
     "data": {
      "application/vnd.jupyter.widget-view+json": {
       "model_id": "",
       "version_major": 2,
       "version_minor": 0
      },
      "text/plain": [
       "HBox(children=(FloatProgress(value=0.0, max=200.0), HTML(value='')))"
      ]
     },
     "metadata": {},
     "output_type": "display_data"
    },
    {
     "name": "stdout",
     "output_type": "stream",
     "text": [
      " 1 /  5, loss = 0.1632, val_loss = 0.1080\n"
     ]
    },
    {
     "data": {
      "application/vnd.jupyter.widget-view+json": {
       "model_id": "",
       "version_major": 2,
       "version_minor": 0
      },
      "text/plain": [
       "HBox(children=(FloatProgress(value=0.0, max=1000.0), HTML(value='')))"
      ]
     },
     "metadata": {},
     "output_type": "display_data"
    },
    {
     "data": {
      "application/vnd.jupyter.widget-view+json": {
       "model_id": "",
       "version_major": 2,
       "version_minor": 0
      },
      "text/plain": [
       "HBox(children=(FloatProgress(value=0.0, max=200.0), HTML(value='')))"
      ]
     },
     "metadata": {},
     "output_type": "display_data"
    },
    {
     "name": "stdout",
     "output_type": "stream",
     "text": [
      " 2 /  5, loss = 0.0917, val_loss = 0.0865\n"
     ]
    },
    {
     "data": {
      "application/vnd.jupyter.widget-view+json": {
       "model_id": "",
       "version_major": 2,
       "version_minor": 0
      },
      "text/plain": [
       "HBox(children=(FloatProgress(value=0.0, max=1000.0), HTML(value='')))"
      ]
     },
     "metadata": {},
     "output_type": "display_data"
    },
    {
     "data": {
      "application/vnd.jupyter.widget-view+json": {
       "model_id": "",
       "version_major": 2,
       "version_minor": 0
      },
      "text/plain": [
       "HBox(children=(FloatProgress(value=0.0, max=200.0), HTML(value='')))"
      ]
     },
     "metadata": {},
     "output_type": "display_data"
    },
    {
     "name": "stdout",
     "output_type": "stream",
     "text": [
      " 3 /  5, loss = 0.0827, val_loss = 0.0848\n"
     ]
    },
    {
     "data": {
      "application/vnd.jupyter.widget-view+json": {
       "model_id": "",
       "version_major": 2,
       "version_minor": 0
      },
      "text/plain": [
       "HBox(children=(FloatProgress(value=0.0, max=1000.0), HTML(value='')))"
      ]
     },
     "metadata": {},
     "output_type": "display_data"
    },
    {
     "data": {
      "application/vnd.jupyter.widget-view+json": {
       "model_id": "",
       "version_major": 2,
       "version_minor": 0
      },
      "text/plain": [
       "HBox(children=(FloatProgress(value=0.0, max=200.0), HTML(value='')))"
      ]
     },
     "metadata": {},
     "output_type": "display_data"
    },
    {
     "name": "stdout",
     "output_type": "stream",
     "text": [
      " 4 /  5, loss = 0.0715, val_loss = 0.0875\n"
     ]
    },
    {
     "data": {
      "application/vnd.jupyter.widget-view+json": {
       "model_id": "",
       "version_major": 2,
       "version_minor": 0
      },
      "text/plain": [
       "HBox(children=(FloatProgress(value=0.0, max=1000.0), HTML(value='')))"
      ]
     },
     "metadata": {},
     "output_type": "display_data"
    },
    {
     "data": {
      "application/vnd.jupyter.widget-view+json": {
       "model_id": "",
       "version_major": 2,
       "version_minor": 0
      },
      "text/plain": [
       "HBox(children=(FloatProgress(value=0.0, max=200.0), HTML(value='')))"
      ]
     },
     "metadata": {},
     "output_type": "display_data"
    },
    {
     "name": "stdout",
     "output_type": "stream",
     "text": [
      " 5 /  5, loss = 0.0712, val_loss = 0.0797\n"
     ]
    },
    {
     "data": {
      "application/vnd.jupyter.widget-view+json": {
       "model_id": "",
       "version_major": 2,
       "version_minor": 0
      },
      "text/plain": [
       "HBox(children=(FloatProgress(value=0.0, max=50.0), HTML(value='')))"
      ]
     },
     "metadata": {},
     "output_type": "display_data"
    },
    {
     "name": "stdout",
     "output_type": "stream",
     "text": [
      "((1,), (1,)) (0.07105530070140957, 0.9774000000000002)\n"
     ]
    }
   ],
   "source": [
    "scores = {}\n",
    "subnet_generator = ((choice, supernet.detach_subnet(choice, copy_weights=True)) for choice in supernet.get_all_choices(1))\n",
    "for choice, subnet in subnet_generator:\n",
    "    name = f'stand-alone_{choice}'.replace(',', '').replace(' ', '')\n",
    "    print(choice, name)\n",
    "    \n",
    "    train(5, train_loader, subnet, prefix_name=name)\n",
    "    scores[choice] = evaluate(subnet, choice)\n",
    "    \n",
    "    print(choice, scores[choice])"
   ]
  },
  {
   "cell_type": "code",
   "execution_count": 23,
   "metadata": {
    "ExecuteTime": {
     "end_time": "2020-08-13T15:53:48.022574Z",
     "start_time": "2020-08-13T15:53:48.018574Z"
    }
   },
   "outputs": [
    {
     "data": {
      "text/plain": [
       "{((0,), (0,)): (0.05303921536862616, 0.9835000000000005),\n",
       " ((0,), (1,)): (0.08682703863596544, 0.9738000000000001),\n",
       " ((1,), (0,)): (0.07313668595626951, 0.9780000000000003),\n",
       " ((1,), (1,)): (0.07105530070140957, 0.9774000000000002)}"
      ]
     },
     "execution_count": 23,
     "metadata": {},
     "output_type": "execute_result"
    }
   ],
   "source": [
    "scores"
   ]
  },
  {
   "cell_type": "markdown",
   "metadata": {},
   "source": [
    "## Результаты и сравнение"
   ]
  },
  {
   "cell_type": "markdown",
   "metadata": {},
   "source": [
    "На графике ниже сравнивается насколько точно Суперсеть может предсказывать качество каждой подсети, как если бы она обучалась stand-alone. Идеальный случай - точки по красному пунктиру. Также здесь сравниваются все 3 поставленных эксперимента."
   ]
  },
  {
   "cell_type": "code",
   "execution_count": 84,
   "metadata": {
    "ExecuteTime": {
     "end_time": "2020-08-13T16:33:31.743527Z",
     "start_time": "2020-08-13T16:33:31.740527Z"
    }
   },
   "outputs": [],
   "source": [
    "scores_1, scores_2, scores_3, ref = [[x[1] for x in l.values()] for l in [scores_oneshot_1,scores_oneshot_2,scores_oneshot_3,scores]]"
   ]
  },
  {
   "cell_type": "code",
   "execution_count": 86,
   "metadata": {
    "ExecuteTime": {
     "end_time": "2020-08-13T16:34:17.267159Z",
     "start_time": "2020-08-13T16:34:17.070148Z"
    }
   },
   "outputs": [
    {
     "data": {
      "image/png": "[encoded data removed]",
      "text/plain": [
       "<Figure size 432x288 with 1 Axes>"
      ]
     },
     "metadata": {
      "needs_background": "light"
     },
     "output_type": "display_data"
    }
   ],
   "source": [
    "plt.scatter(scores_3, ref, label='PathDropout 0.01-0.3')\n",
    "plt.scatter(scores_2, ref, label='PathDropout 0.1 constant')\n",
    "plt.scatter(scores_1, ref, label='Train as single net')\n",
    "plt.plot([0.85,1],[0.85,1], lw=1, alpha=0.3, ls='--', c='r')\n",
    "plt.xlabel('subnet score')\n",
    "plt.ylabel('stand-alone score')\n",
    "plt.legend()\n",
    "plt.xlim((0.84,1.01));"
   ]
  },
  {
   "cell_type": "markdown",
   "metadata": {},
   "source": [
    "Синие и оранжевык точки - с применением dropout, а зеленые - без (их здесь не видно, см. ниже).\n",
    "\n",
    "Суперсеть, обученная без dropout, не может предсказывать поведение тех же сеток, но обученных \"stand-alone\", так же хорошо, как с dropout. Объеснение этому хорошо дано в той статье про One-Shot-суперсеть, и мы сейчас вновь подтвердили это."
   ]
  },
  {
   "cell_type": "code",
   "execution_count": 91,
   "metadata": {
    "ExecuteTime": {
     "end_time": "2020-08-13T16:39:56.882584Z",
     "start_time": "2020-08-13T16:39:56.701574Z"
    }
   },
   "outputs": [
    {
     "data": {
      "text/plain": [
       "<matplotlib.legend.Legend at 0x17355f28>"
      ]
     },
     "execution_count": 91,
     "metadata": {},
     "output_type": "execute_result"
    },
    {
     "data": {
      "image/png": "[encoded data removed]",
      "text/plain": [
       "<Figure size 432x288 with 1 Axes>"
      ]
     },
     "metadata": {
      "needs_background": "light"
     },
     "output_type": "display_data"
    }
   ],
   "source": [
    "plt.plot([0.2,1],[0.2,1], lw=1, alpha=0.3, ls='--', c='r')\n",
    "plt.scatter(scores_1, ref, label='Train as single net', c='C2')\n",
    "plt.legend()"
   ]
  },
  {
   "cell_type": "markdown",
   "metadata": {},
   "source": [
    "Хоть и на графике кажется, что зеленые точки никак не коррелируют с stand-alone, на самом деле при нормировке значений, корреляция будет видна.\n",
    "\n",
    "Проверим коррелирование каждого результата с референсом:"
   ]
  },
  {
   "cell_type": "code",
   "execution_count": 89,
   "metadata": {
    "ExecuteTime": {
     "end_time": "2020-08-13T16:36:33.409946Z",
     "start_time": "2020-08-13T16:36:33.403946Z"
    }
   },
   "outputs": [
    {
     "data": {
      "text/plain": [
       "array([0.66869493, 0.91665505, 0.69733981, 1.        ])"
      ]
     },
     "execution_count": 89,
     "metadata": {},
     "output_type": "execute_result"
    }
   ],
   "source": [
    "np.corrcoef(np.stack([scores_1, scores_2, scores_3, ref]))[3]"
   ]
  },
  {
   "cell_type": "markdown",
   "metadata": {},
   "source": [
    "она у всех > 0.6, а у второго метода самая большая (0.91)."
   ]
  },
  {
   "cell_type": "markdown",
   "metadata": {},
   "source": [
    "Вот скоры этого метода для каждой подсети:"
   ]
  },
  {
   "cell_type": "code",
   "execution_count": 92,
   "metadata": {
    "ExecuteTime": {
     "end_time": "2020-08-13T16:43:58.746418Z",
     "start_time": "2020-08-13T16:43:58.741418Z"
    }
   },
   "outputs": [
    {
     "data": {
      "text/plain": [
       "{((0,), (0,)): (0.08939035969786346, 0.9740000000000003),\n",
       " ((0,), (1,)): (0.14887817274779083, 0.9583000000000002),\n",
       " ((1,), (0,)): (0.09292864842340348, 0.9709000000000001),\n",
       " ((1,), (1,)): (0.13144653026014563, 0.9653)}"
      ]
     },
     "execution_count": 92,
     "metadata": {},
     "output_type": "execute_result"
    }
   ],
   "source": [
    "scores_oneshot_2"
   ]
  },
  {
   "cell_type": "markdown",
   "metadata": {},
   "source": [
    "Значит самая лучшая подсеть, по второму эксперименту, это подсеть с двумя Conv(3x3):"
   ]
  },
  {
   "cell_type": "code",
   "execution_count": 93,
   "metadata": {
    "ExecuteTime": {
     "end_time": "2020-08-13T16:46:12.297057Z",
     "start_time": "2020-08-13T16:46:12.277056Z"
    }
   },
   "outputs": [
    {
     "data": {
      "text/plain": [
       "Sequential(\n",
       "  (0): Sequential(\n",
       "    (0): Conv2d(1, 32, kernel_size=(3, 3), stride=(1, 1), padding=(1, 1))\n",
       "    (1): ReLU()\n",
       "  )\n",
       "  (1): MaxPool2d(kernel_size=(2, 2), stride=2, padding=0, dilation=1, ceil_mode=False)\n",
       "  (2): Sequential(\n",
       "    (0): Conv2d(32, 64, kernel_size=(3, 3), stride=(1, 1), padding=(1, 1))\n",
       "    (1): ReLU()\n",
       "  )\n",
       "  (3): MaxPool2d(kernel_size=(2, 2), stride=2, padding=0, dilation=1, ceil_mode=False)\n",
       "  (4): Flatten()\n",
       "  (5): Linear(in_features=3136, out_features=32, bias=True)\n",
       "  (6): ReLU()\n",
       "  (7): Linear(in_features=32, out_features=10, bias=True)\n",
       ")"
      ]
     },
     "execution_count": 93,
     "metadata": {},
     "output_type": "execute_result"
    }
   ],
   "source": [
    "supernet.detach_subnet(((0,),(0,)))"
   ]
  },
  {
   "attachments": {
    "image.png": {
     "image/png": "[encoded data removed]"
    }
   },
   "cell_type": "markdown",
   "metadata": {},
   "source": [
    "![image.png](attachment:image.png)"
   ]
  },
  {
   "cell_type": "markdown",
   "metadata": {},
   "source": [
    "Однако, по всем экспериментам выделяется еще одна, которая имеет сравнимаое качество с предыдущей. Вот она:"
   ]
  },
  {
   "cell_type": "code",
   "execution_count": 94,
   "metadata": {
    "ExecuteTime": {
     "end_time": "2020-08-13T16:47:36.519874Z",
     "start_time": "2020-08-13T16:47:36.501873Z"
    }
   },
   "outputs": [
    {
     "data": {
      "text/plain": [
       "Sequential(\n",
       "  (0): Sequential(\n",
       "    (0): Conv2d(1, 32, kernel_size=(5, 5), stride=(1, 1), padding=(2, 2))\n",
       "    (1): ReLU()\n",
       "  )\n",
       "  (1): MaxPool2d(kernel_size=(2, 2), stride=2, padding=0, dilation=1, ceil_mode=False)\n",
       "  (2): Sequential(\n",
       "    (0): Conv2d(32, 64, kernel_size=(3, 3), stride=(1, 1), padding=(1, 1))\n",
       "    (1): ReLU()\n",
       "  )\n",
       "  (3): MaxPool2d(kernel_size=(2, 2), stride=2, padding=0, dilation=1, ceil_mode=False)\n",
       "  (4): Flatten()\n",
       "  (5): Linear(in_features=3136, out_features=32, bias=True)\n",
       "  (6): ReLU()\n",
       "  (7): Linear(in_features=32, out_features=10, bias=True)\n",
       ")"
      ]
     },
     "execution_count": 94,
     "metadata": {},
     "output_type": "execute_result"
    }
   ],
   "source": [
    "supernet.detach_subnet(((1,),(0,)))"
   ]
  },
  {
   "attachments": {
    "image.png": {
     "image/png": "[encoded data removed]"
    }
   },
   "cell_type": "markdown",
   "metadata": {},
   "source": [
    "![image.png](attachment:image.png)"
   ]
  },
  {
   "cell_type": "markdown",
   "metadata": {},
   "source": [
    "## Big Baby Net (бонус)"
   ]
  },
  {
   "cell_type": "markdown",
   "metadata": {},
   "source": [
    "Теперь похимичим че-нить интересненькое =)"
   ]
  },
  {
   "cell_type": "code",
   "execution_count": 23,
   "metadata": {
    "ExecuteTime": {
     "end_time": "2020-08-13T19:02:25.441847Z",
     "start_time": "2020-08-13T19:02:25.404845Z"
    }
   },
   "outputs": [],
   "source": [
    "supernet = SuperNet([\n",
    "    ChoiceBlockWrapper([\n",
    "        nn.Conv2d(1, 32, (3,3), padding=1),\n",
    "        nn.Conv2d(1, 32, (5,5), padding=2),\n",
    "    ]),\n",
    "    ChoiceBlockWrapper([\n",
    "        nn.ReLU(),\n",
    "        nn.LeakyReLU(),\n",
    "    ], allow_parallel=False),\n",
    "    nn.MaxPool2d((2,2), stride=2),\n",
    "    ChoiceBlockWrapper([\n",
    "        nn.Conv2d(32, 64, (3,3), padding=1),\n",
    "        nn.Conv2d(32, 64, (5,5), padding=2),\n",
    "    ]),\n",
    "    ChoiceBlockWrapper([\n",
    "        nn.ReLU(),\n",
    "        nn.LeakyReLU(),\n",
    "    ], allow_parallel=False),\n",
    "    nn.MaxPool2d((2,2), stride=2),\n",
    "    ChoiceBlockWrapper([\n",
    "        nn.Conv2d(64, 64, (3,3), padding=1),\n",
    "        nn.Conv2d(64, 64, (5,5), padding=2),\n",
    "    ], skip_chance=0.1),\n",
    "    ChoiceBlockWrapper([\n",
    "        nn.ReLU(),\n",
    "        nn.LeakyReLU(),\n",
    "    ], allow_parallel=False),\n",
    "    nn.Flatten(),\n",
    "    nn.Linear(7*7*64, 32),\n",
    "    nn.ReLU(),\n",
    "    nn.Linear(32, 10)\n",
    "]).to(device)"
   ]
  },
  {
   "cell_type": "markdown",
   "metadata": {},
   "source": [
    "Сначала я добавил Tanh, как дополнительная активация на попробовать, но это даже не сходилось, поэтому обойдемся схожими по смыслу ReLU и LeakyReLU. Это вполне логично, что разные виды активации не уживаются вметсе, думаю, понятно почему."
   ]
  },
  {
   "cell_type": "code",
   "execution_count": 37,
   "metadata": {
    "ExecuteTime": {
     "end_time": "2020-08-13T21:51:43.695866Z",
     "start_time": "2020-08-13T21:51:43.691866Z"
    }
   },
   "outputs": [
    {
     "data": {
      "text/plain": [
       "288"
      ]
     },
     "execution_count": 37,
     "metadata": {},
     "output_type": "execute_result"
    }
   ],
   "source": [
    "len(supernet.get_all_choices())"
   ]
  },
  {
   "cell_type": "markdown",
   "metadata": {},
   "source": [
    "Сейчас в этом малыше уже существует 288 разных комбинаций подсеток. На самом деле это не много для NAS. Посмотрим как оно обучится."
   ]
  },
  {
   "cell_type": "code",
   "execution_count": 24,
   "metadata": {
    "ExecuteTime": {
     "end_time": "2020-08-13T19:02:26.302896Z",
     "start_time": "2020-08-13T19:02:26.300896Z"
    }
   },
   "outputs": [],
   "source": [
    "controller = ThompsonSamplingController(supernet)"
   ]
  },
  {
   "cell_type": "code",
   "execution_count": 25,
   "metadata": {
    "ExecuteTime": {
     "end_time": "2020-08-13T19:18:57.386583Z",
     "start_time": "2020-08-13T19:03:22.419106Z"
    },
    "scrolled": true
   },
   "outputs": [
    {
     "data": {
      "application/vnd.jupyter.widget-view+json": {
       "model_id": "",
       "version_major": 2,
       "version_minor": 0
      },
      "text/plain": [
       "HBox(children=(FloatProgress(value=0.0, max=1000.0), HTML(value='')))"
      ]
     },
     "metadata": {},
     "output_type": "display_data"
    },
    {
     "name": "stdout",
     "output_type": "stream",
     "text": [
      "\r"
     ]
    },
    {
     "data": {
      "application/vnd.jupyter.widget-view+json": {
       "model_id": "",
       "version_major": 2,
       "version_minor": 0
      },
      "text/plain": [
       "HBox(children=(FloatProgress(value=0.0, max=50.0), HTML(value='')))"
      ]
     },
     "metadata": {},
     "output_type": "display_data"
    },
    {
     "name": "stdout",
     "output_type": "stream",
     "text": [
      "\r",
      " 1 / 20, loss = 0.4046, val_loss = 0.1616\n"
     ]
    },
    {
     "name": "stderr",
     "output_type": "stream",
     "text": [
      "e:\\program files win2\\python36\\lib\\site-packages\\torch\\serialization.py:360: UserWarning: Couldn't retrieve source code for container of type ThompsonSamplingController. It won't be checked for correctness upon loading.\n",
      "  \"type \" + obj.__name__ + \". It won't be checked \"\n",
      "e:\\program files win2\\python36\\lib\\site-packages\\torch\\serialization.py:360: UserWarning: Couldn't retrieve source code for container of type SuperNet. It won't be checked for correctness upon loading.\n",
      "  \"type \" + obj.__name__ + \". It won't be checked \"\n",
      "e:\\program files win2\\python36\\lib\\site-packages\\torch\\serialization.py:360: UserWarning: Couldn't retrieve source code for container of type ChoiceBlockWrapper. It won't be checked for correctness upon loading.\n",
      "  \"type \" + obj.__name__ + \". It won't be checked \"\n"
     ]
    },
    {
     "data": {
      "application/vnd.jupyter.widget-view+json": {
       "model_id": "",
       "version_major": 2,
       "version_minor": 0
      },
      "text/plain": [
       "HBox(children=(FloatProgress(value=0.0, max=1000.0), HTML(value='')))"
      ]
     },
     "metadata": {},
     "output_type": "display_data"
    },
    {
     "name": "stdout",
     "output_type": "stream",
     "text": [
      "\r"
     ]
    },
    {
     "data": {
      "application/vnd.jupyter.widget-view+json": {
       "model_id": "",
       "version_major": 2,
       "version_minor": 0
      },
      "text/plain": [
       "HBox(children=(FloatProgress(value=0.0, max=50.0), HTML(value='')))"
      ]
     },
     "metadata": {},
     "output_type": "display_data"
    },
    {
     "name": "stdout",
     "output_type": "stream",
     "text": [
      "\r",
      " 2 / 20, loss = 0.1499, val_loss = 0.1102\n"
     ]
    },
    {
     "data": {
      "application/vnd.jupyter.widget-view+json": {
       "model_id": "",
       "version_major": 2,
       "version_minor": 0
      },
      "text/plain": [
       "HBox(children=(FloatProgress(value=0.0, max=1000.0), HTML(value='')))"
      ]
     },
     "metadata": {},
     "output_type": "display_data"
    },
    {
     "name": "stdout",
     "output_type": "stream",
     "text": [
      "\r"
     ]
    },
    {
     "data": {
      "application/vnd.jupyter.widget-view+json": {
       "model_id": "",
       "version_major": 2,
       "version_minor": 0
      },
      "text/plain": [
       "HBox(children=(FloatProgress(value=0.0, max=50.0), HTML(value='')))"
      ]
     },
     "metadata": {},
     "output_type": "display_data"
    },
    {
     "name": "stdout",
     "output_type": "stream",
     "text": [
      "\r",
      " 3 / 20, loss = 0.1084, val_loss = 0.1270\n"
     ]
    },
    {
     "data": {
      "application/vnd.jupyter.widget-view+json": {
       "model_id": "",
       "version_major": 2,
       "version_minor": 0
      },
      "text/plain": [
       "HBox(children=(FloatProgress(value=0.0, max=1000.0), HTML(value='')))"
      ]
     },
     "metadata": {},
     "output_type": "display_data"
    },
    {
     "name": "stdout",
     "output_type": "stream",
     "text": [
      "\r"
     ]
    },
    {
     "data": {
      "application/vnd.jupyter.widget-view+json": {
       "model_id": "",
       "version_major": 2,
       "version_minor": 0
      },
      "text/plain": [
       "HBox(children=(FloatProgress(value=0.0, max=50.0), HTML(value='')))"
      ]
     },
     "metadata": {},
     "output_type": "display_data"
    },
    {
     "name": "stdout",
     "output_type": "stream",
     "text": [
      "\r",
      " 4 / 20, loss = 0.0879, val_loss = 0.0934\n"
     ]
    },
    {
     "data": {
      "application/vnd.jupyter.widget-view+json": {
       "model_id": "",
       "version_major": 2,
       "version_minor": 0
      },
      "text/plain": [
       "HBox(children=(FloatProgress(value=0.0, max=1000.0), HTML(value='')))"
      ]
     },
     "metadata": {},
     "output_type": "display_data"
    },
    {
     "name": "stdout",
     "output_type": "stream",
     "text": [
      "\r"
     ]
    },
    {
     "data": {
      "application/vnd.jupyter.widget-view+json": {
       "model_id": "",
       "version_major": 2,
       "version_minor": 0
      },
      "text/plain": [
       "HBox(children=(FloatProgress(value=0.0, max=50.0), HTML(value='')))"
      ]
     },
     "metadata": {},
     "output_type": "display_data"
    },
    {
     "name": "stdout",
     "output_type": "stream",
     "text": [
      "\r",
      " 5 / 20, loss = 0.0754, val_loss = 0.0804\n"
     ]
    },
    {
     "data": {
      "application/vnd.jupyter.widget-view+json": {
       "model_id": "",
       "version_major": 2,
       "version_minor": 0
      },
      "text/plain": [
       "HBox(children=(FloatProgress(value=0.0, max=1000.0), HTML(value='')))"
      ]
     },
     "metadata": {},
     "output_type": "display_data"
    },
    {
     "name": "stdout",
     "output_type": "stream",
     "text": [
      "\r"
     ]
    },
    {
     "data": {
      "application/vnd.jupyter.widget-view+json": {
       "model_id": "",
       "version_major": 2,
       "version_minor": 0
      },
      "text/plain": [
       "HBox(children=(FloatProgress(value=0.0, max=50.0), HTML(value='')))"
      ]
     },
     "metadata": {},
     "output_type": "display_data"
    },
    {
     "name": "stdout",
     "output_type": "stream",
     "text": [
      "\r",
      " 6 / 20, loss = 0.0681, val_loss = 0.0825\n"
     ]
    },
    {
     "data": {
      "application/vnd.jupyter.widget-view+json": {
       "model_id": "",
       "version_major": 2,
       "version_minor": 0
      },
      "text/plain": [
       "HBox(children=(FloatProgress(value=0.0, max=1000.0), HTML(value='')))"
      ]
     },
     "metadata": {},
     "output_type": "display_data"
    },
    {
     "name": "stdout",
     "output_type": "stream",
     "text": [
      "\r"
     ]
    },
    {
     "data": {
      "application/vnd.jupyter.widget-view+json": {
       "model_id": "",
       "version_major": 2,
       "version_minor": 0
      },
      "text/plain": [
       "HBox(children=(FloatProgress(value=0.0, max=50.0), HTML(value='')))"
      ]
     },
     "metadata": {},
     "output_type": "display_data"
    },
    {
     "name": "stdout",
     "output_type": "stream",
     "text": [
      "\r",
      " 7 / 20, loss = 0.0611, val_loss = 0.0748\n"
     ]
    },
    {
     "data": {
      "application/vnd.jupyter.widget-view+json": {
       "model_id": "",
       "version_major": 2,
       "version_minor": 0
      },
      "text/plain": [
       "HBox(children=(FloatProgress(value=0.0, max=1000.0), HTML(value='')))"
      ]
     },
     "metadata": {},
     "output_type": "display_data"
    },
    {
     "name": "stdout",
     "output_type": "stream",
     "text": [
      "\r"
     ]
    },
    {
     "data": {
      "application/vnd.jupyter.widget-view+json": {
       "model_id": "",
       "version_major": 2,
       "version_minor": 0
      },
      "text/plain": [
       "HBox(children=(FloatProgress(value=0.0, max=50.0), HTML(value='')))"
      ]
     },
     "metadata": {},
     "output_type": "display_data"
    },
    {
     "name": "stdout",
     "output_type": "stream",
     "text": [
      "\r",
      " 8 / 20, loss = 0.0569, val_loss = 0.0677\n"
     ]
    },
    {
     "data": {
      "application/vnd.jupyter.widget-view+json": {
       "model_id": "",
       "version_major": 2,
       "version_minor": 0
      },
      "text/plain": [
       "HBox(children=(FloatProgress(value=0.0, max=1000.0), HTML(value='')))"
      ]
     },
     "metadata": {},
     "output_type": "display_data"
    },
    {
     "name": "stdout",
     "output_type": "stream",
     "text": [
      "\r"
     ]
    },
    {
     "data": {
      "application/vnd.jupyter.widget-view+json": {
       "model_id": "",
       "version_major": 2,
       "version_minor": 0
      },
      "text/plain": [
       "HBox(children=(FloatProgress(value=0.0, max=50.0), HTML(value='')))"
      ]
     },
     "metadata": {},
     "output_type": "display_data"
    },
    {
     "name": "stdout",
     "output_type": "stream",
     "text": [
      "\r",
      " 9 / 20, loss = 0.0543, val_loss = 0.0713\n"
     ]
    },
    {
     "data": {
      "application/vnd.jupyter.widget-view+json": {
       "model_id": "",
       "version_major": 2,
       "version_minor": 0
      },
      "text/plain": [
       "HBox(children=(FloatProgress(value=0.0, max=1000.0), HTML(value='')))"
      ]
     },
     "metadata": {},
     "output_type": "display_data"
    },
    {
     "name": "stdout",
     "output_type": "stream",
     "text": [
      "\r"
     ]
    },
    {
     "data": {
      "application/vnd.jupyter.widget-view+json": {
       "model_id": "",
       "version_major": 2,
       "version_minor": 0
      },
      "text/plain": [
       "HBox(children=(FloatProgress(value=0.0, max=50.0), HTML(value='')))"
      ]
     },
     "metadata": {},
     "output_type": "display_data"
    },
    {
     "name": "stdout",
     "output_type": "stream",
     "text": [
      "\r",
      "10 / 20, loss = 0.0505, val_loss = 0.0614\n"
     ]
    },
    {
     "data": {
      "application/vnd.jupyter.widget-view+json": {
       "model_id": "",
       "version_major": 2,
       "version_minor": 0
      },
      "text/plain": [
       "HBox(children=(FloatProgress(value=0.0, max=1000.0), HTML(value='')))"
      ]
     },
     "metadata": {},
     "output_type": "display_data"
    },
    {
     "name": "stdout",
     "output_type": "stream",
     "text": [
      "\r"
     ]
    },
    {
     "data": {
      "application/vnd.jupyter.widget-view+json": {
       "model_id": "",
       "version_major": 2,
       "version_minor": 0
      },
      "text/plain": [
       "HBox(children=(FloatProgress(value=0.0, max=50.0), HTML(value='')))"
      ]
     },
     "metadata": {},
     "output_type": "display_data"
    },
    {
     "name": "stdout",
     "output_type": "stream",
     "text": [
      "\r",
      "11 / 20, loss = 0.0460, val_loss = 0.0617\n"
     ]
    },
    {
     "data": {
      "application/vnd.jupyter.widget-view+json": {
       "model_id": "",
       "version_major": 2,
       "version_minor": 0
      },
      "text/plain": [
       "HBox(children=(FloatProgress(value=0.0, max=1000.0), HTML(value='')))"
      ]
     },
     "metadata": {},
     "output_type": "display_data"
    },
    {
     "name": "stdout",
     "output_type": "stream",
     "text": [
      "\r"
     ]
    },
    {
     "data": {
      "application/vnd.jupyter.widget-view+json": {
       "model_id": "",
       "version_major": 2,
       "version_minor": 0
      },
      "text/plain": [
       "HBox(children=(FloatProgress(value=0.0, max=50.0), HTML(value='')))"
      ]
     },
     "metadata": {},
     "output_type": "display_data"
    },
    {
     "name": "stdout",
     "output_type": "stream",
     "text": [
      "\r",
      "12 / 20, loss = 0.0450, val_loss = 0.0569\n"
     ]
    },
    {
     "data": {
      "application/vnd.jupyter.widget-view+json": {
       "model_id": "",
       "version_major": 2,
       "version_minor": 0
      },
      "text/plain": [
       "HBox(children=(FloatProgress(value=0.0, max=1000.0), HTML(value='')))"
      ]
     },
     "metadata": {},
     "output_type": "display_data"
    },
    {
     "name": "stdout",
     "output_type": "stream",
     "text": [
      "\r"
     ]
    },
    {
     "data": {
      "application/vnd.jupyter.widget-view+json": {
       "model_id": "",
       "version_major": 2,
       "version_minor": 0
      },
      "text/plain": [
       "HBox(children=(FloatProgress(value=0.0, max=50.0), HTML(value='')))"
      ]
     },
     "metadata": {},
     "output_type": "display_data"
    },
    {
     "name": "stdout",
     "output_type": "stream",
     "text": [
      "\r",
      "13 / 20, loss = 0.0442, val_loss = 0.0623\n"
     ]
    },
    {
     "data": {
      "application/vnd.jupyter.widget-view+json": {
       "model_id": "",
       "version_major": 2,
       "version_minor": 0
      },
      "text/plain": [
       "HBox(children=(FloatProgress(value=0.0, max=1000.0), HTML(value='')))"
      ]
     },
     "metadata": {},
     "output_type": "display_data"
    },
    {
     "name": "stdout",
     "output_type": "stream",
     "text": [
      "\r"
     ]
    },
    {
     "data": {
      "application/vnd.jupyter.widget-view+json": {
       "model_id": "",
       "version_major": 2,
       "version_minor": 0
      },
      "text/plain": [
       "HBox(children=(FloatProgress(value=0.0, max=50.0), HTML(value='')))"
      ]
     },
     "metadata": {},
     "output_type": "display_data"
    },
    {
     "name": "stdout",
     "output_type": "stream",
     "text": [
      "\r",
      "14 / 20, loss = 0.0430, val_loss = 0.0595\n"
     ]
    },
    {
     "data": {
      "application/vnd.jupyter.widget-view+json": {
       "model_id": "",
       "version_major": 2,
       "version_minor": 0
      },
      "text/plain": [
       "HBox(children=(FloatProgress(value=0.0, max=1000.0), HTML(value='')))"
      ]
     },
     "metadata": {},
     "output_type": "display_data"
    },
    {
     "name": "stdout",
     "output_type": "stream",
     "text": [
      "\r"
     ]
    },
    {
     "data": {
      "application/vnd.jupyter.widget-view+json": {
       "model_id": "",
       "version_major": 2,
       "version_minor": 0
      },
      "text/plain": [
       "HBox(children=(FloatProgress(value=0.0, max=50.0), HTML(value='')))"
      ]
     },
     "metadata": {},
     "output_type": "display_data"
    },
    {
     "name": "stdout",
     "output_type": "stream",
     "text": [
      "\r",
      "15 / 20, loss = 0.0392, val_loss = 0.0638\n"
     ]
    },
    {
     "data": {
      "application/vnd.jupyter.widget-view+json": {
       "model_id": "",
       "version_major": 2,
       "version_minor": 0
      },
      "text/plain": [
       "HBox(children=(FloatProgress(value=0.0, max=1000.0), HTML(value='')))"
      ]
     },
     "metadata": {},
     "output_type": "display_data"
    },
    {
     "name": "stdout",
     "output_type": "stream",
     "text": [
      "\r"
     ]
    },
    {
     "data": {
      "application/vnd.jupyter.widget-view+json": {
       "model_id": "",
       "version_major": 2,
       "version_minor": 0
      },
      "text/plain": [
       "HBox(children=(FloatProgress(value=0.0, max=50.0), HTML(value='')))"
      ]
     },
     "metadata": {},
     "output_type": "display_data"
    },
    {
     "name": "stdout",
     "output_type": "stream",
     "text": [
      "\r",
      "16 / 20, loss = 0.0373, val_loss = 0.0624\n"
     ]
    },
    {
     "data": {
      "application/vnd.jupyter.widget-view+json": {
       "model_id": "",
       "version_major": 2,
       "version_minor": 0
      },
      "text/plain": [
       "HBox(children=(FloatProgress(value=0.0, max=1000.0), HTML(value='')))"
      ]
     },
     "metadata": {},
     "output_type": "display_data"
    },
    {
     "name": "stdout",
     "output_type": "stream",
     "text": [
      "\r"
     ]
    },
    {
     "data": {
      "application/vnd.jupyter.widget-view+json": {
       "model_id": "",
       "version_major": 2,
       "version_minor": 0
      },
      "text/plain": [
       "HBox(children=(FloatProgress(value=0.0, max=50.0), HTML(value='')))"
      ]
     },
     "metadata": {},
     "output_type": "display_data"
    },
    {
     "name": "stdout",
     "output_type": "stream",
     "text": [
      "\r",
      "17 / 20, loss = 0.0358, val_loss = 0.0642\n"
     ]
    },
    {
     "data": {
      "application/vnd.jupyter.widget-view+json": {
       "model_id": "",
       "version_major": 2,
       "version_minor": 0
      },
      "text/plain": [
       "HBox(children=(FloatProgress(value=0.0, max=1000.0), HTML(value='')))"
      ]
     },
     "metadata": {},
     "output_type": "display_data"
    },
    {
     "name": "stdout",
     "output_type": "stream",
     "text": [
      "\r"
     ]
    },
    {
     "data": {
      "application/vnd.jupyter.widget-view+json": {
       "model_id": "",
       "version_major": 2,
       "version_minor": 0
      },
      "text/plain": [
       "HBox(children=(FloatProgress(value=0.0, max=50.0), HTML(value='')))"
      ]
     },
     "metadata": {},
     "output_type": "display_data"
    },
    {
     "name": "stdout",
     "output_type": "stream",
     "text": [
      "\r",
      "18 / 20, loss = 0.0367, val_loss = 0.0688\n"
     ]
    },
    {
     "data": {
      "application/vnd.jupyter.widget-view+json": {
       "model_id": "",
       "version_major": 2,
       "version_minor": 0
      },
      "text/plain": [
       "HBox(children=(FloatProgress(value=0.0, max=1000.0), HTML(value='')))"
      ]
     },
     "metadata": {},
     "output_type": "display_data"
    },
    {
     "name": "stdout",
     "output_type": "stream",
     "text": [
      "\r"
     ]
    },
    {
     "data": {
      "application/vnd.jupyter.widget-view+json": {
       "model_id": "",
       "version_major": 2,
       "version_minor": 0
      },
      "text/plain": [
       "HBox(children=(FloatProgress(value=0.0, max=50.0), HTML(value='')))"
      ]
     },
     "metadata": {},
     "output_type": "display_data"
    },
    {
     "name": "stdout",
     "output_type": "stream",
     "text": [
      "\r",
      "19 / 20, loss = 0.0348, val_loss = 0.0680\n"
     ]
    },
    {
     "data": {
      "application/vnd.jupyter.widget-view+json": {
       "model_id": "",
       "version_major": 2,
       "version_minor": 0
      },
      "text/plain": [
       "HBox(children=(FloatProgress(value=0.0, max=1000.0), HTML(value='')))"
      ]
     },
     "metadata": {},
     "output_type": "display_data"
    },
    {
     "name": "stdout",
     "output_type": "stream",
     "text": [
      "\r"
     ]
    },
    {
     "data": {
      "application/vnd.jupyter.widget-view+json": {
       "model_id": "",
       "version_major": 2,
       "version_minor": 0
      },
      "text/plain": [
       "HBox(children=(FloatProgress(value=0.0, max=50.0), HTML(value='')))"
      ]
     },
     "metadata": {},
     "output_type": "display_data"
    },
    {
     "name": "stdout",
     "output_type": "stream",
     "text": [
      "\r",
      "20 / 20, loss = 0.0360, val_loss = 0.0647\n"
     ]
    }
   ],
   "source": [
    "history = train(20, train_loader, supernet, controller=controller, gamma_start=0.01, gamma_end=0.1, lr=1e-3, prefix_name='big_baby_net2')"
   ]
  },
  {
   "cell_type": "code",
   "execution_count": 14,
   "metadata": {
    "ExecuteTime": {
     "end_time": "2020-08-13T18:52:07.810521Z",
     "start_time": "2020-08-13T18:52:07.786519Z"
    }
   },
   "outputs": [],
   "source": [
    "# loaded = torch.load('big_baby_net_last.pt')\n",
    "# supernet.load_state_dict(loaded['model'])\n",
    "# controller = loaded['controller']"
   ]
  },
  {
   "cell_type": "markdown",
   "metadata": {},
   "source": [
    "Покажем 10 лучших подсеток:"
   ]
  },
  {
   "cell_type": "code",
   "execution_count": 26,
   "metadata": {
    "ExecuteTime": {
     "end_time": "2020-08-13T19:32:47.317052Z",
     "start_time": "2020-08-13T19:32:47.307052Z"
    }
   },
   "outputs": [
    {
     "data": {
      "text/plain": [
       "[[((0,), (0,), (1,), (1,), (1,), (1,)), 0.02606532366113051],\n",
       " [((1,), (1,), (1,), (0,), (1,), (0,)), 0.02619634288069057],\n",
       " [((1,), (0,), (1,), (0,), (1,), (0,)), 0.032641945224579264],\n",
       " [((1,), (1,), (1,), (1,), (0, 1), (0,)), 0.03289441538583018],\n",
       " [((1,), (0,), (0, 1), (1,), (1,), (0,)), 0.03295718668034299],\n",
       " [((1,), (1,), (0, 1), (1,), (1,), (1,)), 0.03590003162400646],\n",
       " [((0, 1), (0,), (1,), (0,), (1,), (1,)), 0.036811469589487056],\n",
       " [((0, 1), (1,), (1,), (0,), (1,), (1,)), 0.037160280158632764],\n",
       " [((1,), (0,), (1,), (0,), (1,), (1,)), 0.037677226169034836],\n",
       " [((1,), (1,), (1,), (1,), (1,), (1,)), 0.03826796087607937]]"
      ]
     },
     "execution_count": 26,
     "metadata": {},
     "output_type": "execute_result"
    }
   ],
   "source": [
    "controller.get_top_k_choices(10, 1000)"
   ]
  },
  {
   "cell_type": "markdown",
   "metadata": {},
   "source": [
    "А вот она, самая красавица из всех:"
   ]
  },
  {
   "cell_type": "code",
   "execution_count": 30,
   "metadata": {
    "ExecuteTime": {
     "end_time": "2020-08-13T19:33:34.553754Z",
     "start_time": "2020-08-13T19:33:34.549754Z"
    }
   },
   "outputs": [
    {
     "data": {
      "text/plain": [
       "Sequential(\n",
       "  (0): Conv2d(1, 32, kernel_size=(3, 3), stride=(1, 1), padding=(1, 1))\n",
       "  (1): ReLU()\n",
       "  (2): MaxPool2d(kernel_size=(2, 2), stride=2, padding=0, dilation=1, ceil_mode=False)\n",
       "  (3): Conv2d(32, 64, kernel_size=(5, 5), stride=(1, 1), padding=(2, 2))\n",
       "  (4): LeakyReLU(negative_slope=0.01)\n",
       "  (5): MaxPool2d(kernel_size=(2, 2), stride=2, padding=0, dilation=1, ceil_mode=False)\n",
       "  (6): Conv2d(64, 64, kernel_size=(5, 5), stride=(1, 1), padding=(2, 2))\n",
       "  (7): LeakyReLU(negative_slope=0.01)\n",
       "  (8): Flatten()\n",
       "  (9): Linear(in_features=3136, out_features=32, bias=True)\n",
       "  (10): ReLU()\n",
       "  (11): Linear(in_features=32, out_features=10, bias=True)\n",
       ")"
      ]
     },
     "execution_count": 30,
     "metadata": {},
     "output_type": "execute_result"
    }
   ],
   "source": [
    "best_subnet = supernet.detach_subnet(((0,), (0,), (1,), (1,), (1,), (1,)))\n",
    "best_subnet"
   ]
  },
  {
   "cell_type": "markdown",
   "metadata": {},
   "source": [
    "Здест у нас:\n",
    "- Conv(3x3)+ReLU,\n",
    "- Conv(5x5)+LeakyReLU,\n",
    "- Conv(5x5)+LeakyReLU,\n",
    "\n",
    "Интересный выбор! В своем первоночальном виде, только что оторванном от СуперНета, она дает уже неплохой результат:"
   ]
  },
  {
   "cell_type": "code",
   "execution_count": 29,
   "metadata": {
    "ExecuteTime": {
     "end_time": "2020-08-13T19:33:21.001979Z",
     "start_time": "2020-08-13T19:33:19.393887Z"
    }
   },
   "outputs": [
    {
     "data": {
      "application/vnd.jupyter.widget-view+json": {
       "model_id": "",
       "version_major": 2,
       "version_minor": 0
      },
      "text/plain": [
       "HBox(children=(FloatProgress(value=0.0, max=50.0), HTML(value='')))"
      ]
     },
     "metadata": {},
     "output_type": "display_data"
    },
    {
     "name": "stdout",
     "output_type": "stream",
     "text": [
      "\r"
     ]
    },
    {
     "data": {
      "text/plain": [
       "(0.060136584336578376, 0.9837000000000002)"
      ]
     },
     "execution_count": 29,
     "metadata": {},
     "output_type": "execute_result"
    }
   ],
   "source": [
    "evaluate(best_subnet)  # before"
   ]
  },
  {
   "cell_type": "markdown",
   "metadata": {},
   "source": [
    "Доучим еще 3 эпохи:"
   ]
  },
  {
   "cell_type": "code",
   "execution_count": 31,
   "metadata": {
    "ExecuteTime": {
     "end_time": "2020-08-13T19:35:10.124221Z",
     "start_time": "2020-08-13T19:33:48.798569Z"
    }
   },
   "outputs": [
    {
     "data": {
      "application/vnd.jupyter.widget-view+json": {
       "model_id": "",
       "version_major": 2,
       "version_minor": 0
      },
      "text/plain": [
       "HBox(children=(FloatProgress(value=0.0, max=1000.0), HTML(value='')))"
      ]
     },
     "metadata": {},
     "output_type": "display_data"
    },
    {
     "name": "stdout",
     "output_type": "stream",
     "text": [
      "\r"
     ]
    },
    {
     "data": {
      "application/vnd.jupyter.widget-view+json": {
       "model_id": "",
       "version_major": 2,
       "version_minor": 0
      },
      "text/plain": [
       "HBox(children=(FloatProgress(value=0.0, max=50.0), HTML(value='')))"
      ]
     },
     "metadata": {},
     "output_type": "display_data"
    },
    {
     "name": "stdout",
     "output_type": "stream",
     "text": [
      "\r",
      " 1 /  3, loss = 0.0156, val_loss = 0.0397\n"
     ]
    },
    {
     "data": {
      "application/vnd.jupyter.widget-view+json": {
       "model_id": "",
       "version_major": 2,
       "version_minor": 0
      },
      "text/plain": [
       "HBox(children=(FloatProgress(value=0.0, max=1000.0), HTML(value='')))"
      ]
     },
     "metadata": {},
     "output_type": "display_data"
    },
    {
     "name": "stdout",
     "output_type": "stream",
     "text": [
      "\r"
     ]
    },
    {
     "data": {
      "application/vnd.jupyter.widget-view+json": {
       "model_id": "",
       "version_major": 2,
       "version_minor": 0
      },
      "text/plain": [
       "HBox(children=(FloatProgress(value=0.0, max=50.0), HTML(value='')))"
      ]
     },
     "metadata": {},
     "output_type": "display_data"
    },
    {
     "name": "stdout",
     "output_type": "stream",
     "text": [
      "\r",
      " 2 /  3, loss = 0.0083, val_loss = 0.0347\n"
     ]
    },
    {
     "data": {
      "application/vnd.jupyter.widget-view+json": {
       "model_id": "",
       "version_major": 2,
       "version_minor": 0
      },
      "text/plain": [
       "HBox(children=(FloatProgress(value=0.0, max=1000.0), HTML(value='')))"
      ]
     },
     "metadata": {},
     "output_type": "display_data"
    },
    {
     "name": "stdout",
     "output_type": "stream",
     "text": [
      "\r"
     ]
    },
    {
     "data": {
      "application/vnd.jupyter.widget-view+json": {
       "model_id": "",
       "version_major": 2,
       "version_minor": 0
      },
      "text/plain": [
       "HBox(children=(FloatProgress(value=0.0, max=50.0), HTML(value='')))"
      ]
     },
     "metadata": {},
     "output_type": "display_data"
    },
    {
     "name": "stdout",
     "output_type": "stream",
     "text": [
      "\r",
      " 3 /  3, loss = 0.0068, val_loss = 0.0366\n"
     ]
    },
    {
     "data": {
      "text/plain": [
       "[[0.015598393040803791, 0.03965930739184841],\n",
       " [0.008259111839193803, 0.03468220624141395],\n",
       " [0.006818551068735361, 0.03660611256491393]]"
      ]
     },
     "execution_count": 31,
     "metadata": {},
     "output_type": "execute_result"
    }
   ],
   "source": [
    "train(3, train_loader, best_subnet, lr=1e-4, prefix_name='best_subnet')"
   ]
  },
  {
   "cell_type": "code",
   "execution_count": 39,
   "metadata": {
    "ExecuteTime": {
     "end_time": "2020-08-13T22:15:59.942595Z",
     "start_time": "2020-08-13T22:15:57.765471Z"
    }
   },
   "outputs": [
    {
     "data": {
      "application/vnd.jupyter.widget-view+json": {
       "model_id": "",
       "version_major": 2,
       "version_minor": 0
      },
      "text/plain": [
       "HBox(children=(FloatProgress(value=0.0, max=50.0), HTML(value='')))"
      ]
     },
     "metadata": {},
     "output_type": "display_data"
    },
    {
     "name": "stdout",
     "output_type": "stream",
     "text": [
      "\r"
     ]
    },
    {
     "data": {
      "text/plain": [
       "(0.03216737349815958, 0.9909000000000003)"
      ]
     },
     "execution_count": 39,
     "metadata": {},
     "output_type": "execute_result"
    }
   ],
   "source": [
    "evaluate(best_subnet)  # after"
   ]
  },
  {
   "cell_type": "markdown",
   "metadata": {},
   "source": [
    "99%, Неплохо! (Хотя для MNIST это обычный скор)"
   ]
  },
  {
   "cell_type": "markdown",
   "metadata": {},
   "source": [
    "Но зато, мы обучили за раз 288 сеток за 20 эпох, потом выбрали лучшую подсетку исходя из лоссов на трэин и \"трэин-субвалидационной\" дате, затем доучили эту лучшую подсеть еще 3 эпохи, и получили 99% accuracy на отложенной val дате!"
   ]
  },
  {
   "cell_type": "markdown",
   "metadata": {},
   "source": [
    "## Further experimetns"
   ]
  },
  {
   "cell_type": "markdown",
   "metadata": {},
   "source": [
    "В реализованном методе SuperNet есть большой потенциал. Вот что бы я добавил, если бы было еще время:\n",
    "\n",
    "- Поддержку **Residual-Connections** (легко достигнуть простым пробросом второго инпута в каждый ChoiceBlock)\n",
    "- Поддержку для разных **filter_sizes** в одном блоке (делается с помощью conv(1x1), который выравнивал бы filter_size у всех подблоков)\n",
    "- Можно использовать **MaxPool'ы** и Conv с **четными кернелами**, если добавить AdaptiveAvgPool2d (как и было предложено в статье)\n",
    "- **И наконец**, очень крутая штука, которую я добалю, даже просто для себя, чтобы посмотреть как это сработает - **ThompsonSampling**. С ним мы будем обучать, не просто рандомно сэмплируя пути с PathDropout, а использовать простую, но \"умную\" стратегию сэмплирования, взятую из RL. Таким образом мы сможем запоминать, какие пути давали более хороший скор, а какие менее. Мы будем сэмплировать более хорошие пути, чтобы сравнивать хорошие с хорошими, и таким образом, определить лучший. То есть, этот метод позволит гораздо быстрее перебрать все хорошие вариации, набрать для них статистику, и выбрать из них самую лучшую. Это должно быть точно лучше чем рандом! (Правда не факт, что это будет хорошо работать с огромными моделями, но наверняка, этот метод можно оптимизировать и под этот случай)"
   ]
  }
 ],
 "metadata": {
  "kernelspec": {
   "display_name": "Python 3",
   "language": "python",
   "name": "python3"
  },
  "language_info": {
   "codemirror_mode": {
    "name": "ipython",
    "version": 3
   },
   "file_extension": ".py",
   "mimetype": "text/x-python",
   "name": "python",
   "nbconvert_exporter": "python",
   "pygments_lexer": "ipython3",
   "version": "3.6.5"
  },
  "toc": {
   "base_numbering": 1,
   "nav_menu": {},
   "number_sections": false,
   "sideBar": true,
   "skip_h1_title": false,
   "title_cell": "Table of Contents",
   "title_sidebar": "Contents",
   "toc_cell": true,
   "toc_position": {
    "height": "calc(100% - 180px)",
    "left": "10px",
    "top": "150px",
    "width": "309px"
   },
   "toc_section_display": true,
   "toc_window_display": true
  }
 },
 "nbformat": 4,
 "nbformat_minor": 2
}
